{
 "cells": [
  {
   "cell_type": "code",
   "execution_count": 1,
   "id": "d5e303ad-70ac-4471-aa81-08eb4f303bc0",
   "metadata": {},
   "outputs": [],
   "source": [
    "import pandas as pd"
   ]
  },
  {
   "cell_type": "code",
   "execution_count": 3,
   "id": "7e995b24-461b-4194-be7c-4d96d2a2e992",
   "metadata": {},
   "outputs": [],
   "source": [
    "df=pd.read_csv(\"heart_clean_final.csv\")"
   ]
  },
  {
   "cell_type": "code",
   "execution_count": 5,
   "id": "e1c783ac-5af0-4e4f-b75c-db028473ef7e",
   "metadata": {},
   "outputs": [],
   "source": [
    "df2=df"
   ]
  },
  {
   "cell_type": "code",
   "execution_count": 7,
   "id": "eacba72b-ba85-4491-9549-8861dfff6340",
   "metadata": {},
   "outputs": [],
   "source": [
    "indep=df2.drop(\"target\",axis=1)\n",
    "dep=df2[\"target\"]"
   ]
  },
  {
   "cell_type": "code",
   "execution_count": 9,
   "id": "4b96bbf4-f7fb-438c-a25b-6f60e17d5ec3",
   "metadata": {},
   "outputs": [],
   "source": [
    "def split_scalar(indep,dep):\n",
    "    from sklearn.model_selection import train_test_split\n",
    "    from sklearn.preprocessing import StandardScaler\n",
    "    X_train,X_test,Y_train,Y_test=train_test_split(indep,dep,test_size=0.2,random_state=0)\n",
    "    sc=StandardScaler()\n",
    "    X_train_sc=sc.fit_transform(X_train)\n",
    "    X_test_sc=sc.transform(X_test)\n",
    "    return X_train_sc,X_test_sc,Y_train,Y_test"
   ]
  },
  {
   "cell_type": "code",
   "execution_count": 11,
   "id": "01e21302-b51b-4e60-9e38-401ef201336c",
   "metadata": {},
   "outputs": [],
   "source": [
    "def KPCA_Classification(X_train_sc,X_test_sc,n):\n",
    "    from sklearn.decomposition import KernelPCA\n",
    "    kpca=KernelPCA(n_components=n,kernel='rbf')\n",
    "    X_train_kpca=kpca.fit_transform(X_train_sc)\n",
    "    X_test_kpca=kpca.transform(X_test_sc)\n",
    "    return X_train_kpca,X_test_kpca"
   ]
  },
  {
   "cell_type": "code",
   "execution_count": 13,
   "id": "b32ebf20-a723-4109-ab45-83383a7dcd82",
   "metadata": {},
   "outputs": [],
   "source": [
    "def cm_prediction(classifier,X_test_kpca,Y_test):\n",
    "    y_pred=classifier.predict(X_test_kpca)\n",
    "    from sklearn.metrics import confusion_matrix,accuracy_score,classification_report\n",
    "    cm=confusion_matrix(Y_test,y_pred)\n",
    "    accuracy=accuracy_score(Y_test,y_pred)\n",
    "    report=classification_report(Y_test,y_pred)\n",
    "    return accuracy,report,cm"
   ]
  },
  {
   "cell_type": "code",
   "execution_count": 15,
   "id": "f757bf0b-8636-492b-a67f-e82e90429f94",
   "metadata": {},
   "outputs": [],
   "source": [
    "def logistic(X_train_kpca,X_test_kpca,Y_train,Y_test):\n",
    "    from sklearn.linear_model import LogisticRegression\n",
    "    classifier=LogisticRegression(random_state=0)\n",
    "    classifier.fit(X_train_kpca,Y_train)\n",
    "    accuracy,report,cm=cm_prediction(classifier,X_test_kpca,Y_test)\n",
    "    return classifier,accuracy,report,cm"
   ]
  },
  {
   "cell_type": "code",
   "execution_count": 17,
   "id": "ad324299-2dcf-4605-9cf6-c29506b8be57",
   "metadata": {},
   "outputs": [],
   "source": [
    "def svm_linear(X_train_kpca,X_test_kpca,Y_train,Y_test):\n",
    "    from sklearn.svm import SVC\n",
    "    classifier=SVC(kernel = 'linear', random_state = 0)\n",
    "    classifier.fit(X_train_kpca,Y_train)\n",
    "    accuracy,report,cm=cm_prediction(classifier,X_test_kpca,Y_test)\n",
    "    return classifier,accuracy,report,cm"
   ]
  },
  {
   "cell_type": "code",
   "execution_count": 19,
   "id": "d8492a14-b66b-47c1-9878-1936148feeeb",
   "metadata": {},
   "outputs": [],
   "source": [
    "def svm_NL(X_train_kpca,X_test_kpca,Y_train,Y_test):\n",
    "    from sklearn.svm import SVC\n",
    "    classifier=SVC(kernel = 'rbf', random_state = 0)\n",
    "    classifier.fit(X_train_kpca,Y_train)\n",
    "    accuracy,report,cm=cm_prediction(classifier,X_test_kpca,Y_test)\n",
    "    return classifier,accuracy,report,cm"
   ]
  },
  {
   "cell_type": "code",
   "execution_count": 21,
   "id": "005c262c-fe39-4209-af61-641ff070e5e3",
   "metadata": {},
   "outputs": [],
   "source": [
    "def Navie(X_train_kpca,X_test_kpca,Y_train,Y_test):\n",
    "    from sklearn.naive_bayes import GaussianNB\n",
    "    classifier=GaussianNB()\n",
    "    classifier.fit(X_train_kpca,Y_train)\n",
    "    accuracy,report,cm=cm_prediction(classifier,X_test_kpca,Y_test)\n",
    "    return classifier,accuracy,report,cm"
   ]
  },
  {
   "cell_type": "code",
   "execution_count": 23,
   "id": "41e55659-4aee-422a-bf37-03aea22a85ef",
   "metadata": {},
   "outputs": [],
   "source": [
    "def knn(X_train_kpca,X_test_kpca,Y_train,Y_test):\n",
    "    from sklearn.neighbors import KNeighborsClassifier\n",
    "    classifier = KNeighborsClassifier(n_neighbors = 5, metric = 'minkowski', p = 2)\n",
    "    classifier.fit(X_train_kpca,Y_train)\n",
    "    accuracy,report,cm=cm_prediction(classifier,X_test_kpca,Y_test)\n",
    "    return classifier,accuracy,report,cm\n",
    "    "
   ]
  },
  {
   "cell_type": "code",
   "execution_count": 25,
   "id": "0250de3b-8671-4e5c-ab81-2aaf727c51fb",
   "metadata": {},
   "outputs": [],
   "source": [
    "def Decision(X_train_kpca,X_test_kpca,Y_train,Y_test):\n",
    "    from sklearn.tree import DecisionTreeClassifier\n",
    "    classifier = DecisionTreeClassifier(criterion = 'entropy', random_state = 0)\n",
    "    classifier.fit(X_train_kpca,Y_train)\n",
    "    accuracy,report,cm=cm_prediction(classifier,X_test_kpca,Y_test)\n",
    "    return classifier,accuracy,report,cm"
   ]
  },
  {
   "cell_type": "code",
   "execution_count": 27,
   "id": "fd7134e2-7d2f-4c97-b3e3-06e3e8d7443a",
   "metadata": {},
   "outputs": [],
   "source": [
    "def random(X_train_kpca,X_test_kpca,Y_train,Y_test):\n",
    "    from sklearn.ensemble import RandomForestClassifier\n",
    "    classifier = RandomForestClassifier(n_estimators = 10, criterion = 'entropy', random_state = 0)\n",
    "    classifier.fit(X_train_kpca,Y_train)\n",
    "    accuracy,report,cm=cm_prediction(classifier,X_test_kpca,Y_test)\n",
    "    return classifier,accuracy,report,cm"
   ]
  },
  {
   "cell_type": "code",
   "execution_count": 29,
   "id": "1ecd0ef5-b74a-4c83-acc1-a1030cdae12f",
   "metadata": {},
   "outputs": [],
   "source": [
    "X_train_sc,X_test_sc,Y_train,Y_test=split_scalar(indep,dep)"
   ]
  },
  {
   "cell_type": "code",
   "execution_count": 31,
   "id": "c1937126-ec7b-407e-97f4-37dbeeef3823",
   "metadata": {},
   "outputs": [
    {
     "name": "stderr",
     "output_type": "stream",
     "text": [
      "C:\\Anaconda3\\Lib\\site-packages\\sklearn\\metrics\\_classification.py:1565: UndefinedMetricWarning: Precision is ill-defined and being set to 0.0 in labels with no predicted samples. Use `zero_division` parameter to control this behavior.\n",
      "  _warn_prf(average, modifier, f\"{metric.capitalize()} is\", len(result))\n",
      "C:\\Anaconda3\\Lib\\site-packages\\sklearn\\metrics\\_classification.py:1565: UndefinedMetricWarning: Precision is ill-defined and being set to 0.0 in labels with no predicted samples. Use `zero_division` parameter to control this behavior.\n",
      "  _warn_prf(average, modifier, f\"{metric.capitalize()} is\", len(result))\n",
      "C:\\Anaconda3\\Lib\\site-packages\\sklearn\\metrics\\_classification.py:1565: UndefinedMetricWarning: Precision is ill-defined and being set to 0.0 in labels with no predicted samples. Use `zero_division` parameter to control this behavior.\n",
      "  _warn_prf(average, modifier, f\"{metric.capitalize()} is\", len(result))\n"
     ]
    }
   ],
   "source": [
    "acclog=[]\n",
    "accsvml=[]\n",
    "accsvmnl=[]\n",
    "accknn=[]\n",
    "accnav=[]\n",
    "accdes=[]\n",
    "accrf=[]\n",
    "for n in range(1,6):\n",
    "    X_train_kpca,X_test_kpca=KPCA_Classification(X_train_sc,X_test_sc,n)\n",
    "    classifier,accuracy,cm,report=logistic(X_train_kpca,X_test_kpca,Y_train,Y_test)\n",
    "    acclog.append(accuracy)\n",
    "    classifier,accuracy,cm,report=svm_linear(X_train_kpca,X_test_kpca,Y_train,Y_test)\n",
    "    accsvml.append(accuracy)\n",
    "    classifier,accuracy,cm,report=svm_NL(X_train_kpca,X_test_kpca,Y_train,Y_test)\n",
    "    accsvmnl.append(accuracy)\n",
    "    classifier,accuracy,cm,report=knn(X_train_kpca,X_test_kpca,Y_train,Y_test)\n",
    "    accknn.append(accuracy)\n",
    "    classifier,accuracy,cm,report=Navie(X_train_kpca,X_test_kpca,Y_train,Y_test)\n",
    "    accnav.append(accuracy)\n",
    "    classifier,accuracy,cm,report=Decision(X_train_kpca,X_test_kpca,Y_train,Y_test)\n",
    "    accdes.append(accuracy)\n",
    "    classifier,accuracy,cm,report=random(X_train_kpca,X_test_kpca,Y_train,Y_test)\n",
    "    accrf.append(accuracy)"
   ]
  },
  {
   "cell_type": "code",
   "execution_count": 33,
   "id": "033024fd-b76b-48a9-be54-253ca0ba39d5",
   "metadata": {},
   "outputs": [],
   "source": [
    "def kpca_classification(acclog,accsvml,accsvmnl,accknn,accnav,accdes,accrf):\n",
    "    dataframe=pd.DataFrame(index=['PC-1','PC-2','PC-3','PC-4','PC-5'],columns=['Logistic','SVMl','SVMnl','KNN','Navie','Decision','Random'])\n",
    "    for number,idex in enumerate(dataframe.index):\n",
    "        dataframe.loc[idex,'Logistic']=acclog[number]\n",
    "        dataframe.loc[idex,'SVMl']=accsvml[number]\n",
    "        dataframe.loc[idex,'SVMnl']=accsvmnl[number]\n",
    "        dataframe.loc[idex,'KNN']=accknn[number]\n",
    "        dataframe.loc[idex,'Navie']=accnav[number]\n",
    "        dataframe.loc[idex,'Decision']=accdes[number]\n",
    "        dataframe.loc[idex,'Random']=accrf[number]\n",
    "    return dataframe"
   ]
  },
  {
   "cell_type": "code",
   "execution_count": 35,
   "id": "f018f31d-caf4-42f4-9cf2-6513ed83d8b6",
   "metadata": {},
   "outputs": [
    {
     "data": {
      "text/html": [
       "<div>\n",
       "<style scoped>\n",
       "    .dataframe tbody tr th:only-of-type {\n",
       "        vertical-align: middle;\n",
       "    }\n",
       "\n",
       "    .dataframe tbody tr th {\n",
       "        vertical-align: top;\n",
       "    }\n",
       "\n",
       "    .dataframe thead th {\n",
       "        text-align: right;\n",
       "    }\n",
       "</style>\n",
       "<table border=\"1\" class=\"dataframe\">\n",
       "  <thead>\n",
       "    <tr style=\"text-align: right;\">\n",
       "      <th></th>\n",
       "      <th>Logistic</th>\n",
       "      <th>SVMl</th>\n",
       "      <th>SVMnl</th>\n",
       "      <th>KNN</th>\n",
       "      <th>Navie</th>\n",
       "      <th>Decision</th>\n",
       "      <th>Random</th>\n",
       "    </tr>\n",
       "  </thead>\n",
       "  <tbody>\n",
       "    <tr>\n",
       "      <th>PC-1</th>\n",
       "      <td>0.810811</td>\n",
       "      <td>0.783784</td>\n",
       "      <td>0.810811</td>\n",
       "      <td>0.864865</td>\n",
       "      <td>0.864865</td>\n",
       "      <td>0.810811</td>\n",
       "      <td>0.810811</td>\n",
       "    </tr>\n",
       "    <tr>\n",
       "      <th>PC-2</th>\n",
       "      <td>0.783784</td>\n",
       "      <td>0.783784</td>\n",
       "      <td>0.864865</td>\n",
       "      <td>0.810811</td>\n",
       "      <td>0.837838</td>\n",
       "      <td>0.648649</td>\n",
       "      <td>0.72973</td>\n",
       "    </tr>\n",
       "    <tr>\n",
       "      <th>PC-3</th>\n",
       "      <td>0.783784</td>\n",
       "      <td>0.783784</td>\n",
       "      <td>0.918919</td>\n",
       "      <td>0.756757</td>\n",
       "      <td>0.864865</td>\n",
       "      <td>0.675676</td>\n",
       "      <td>0.756757</td>\n",
       "    </tr>\n",
       "    <tr>\n",
       "      <th>PC-4</th>\n",
       "      <td>0.810811</td>\n",
       "      <td>0.891892</td>\n",
       "      <td>0.891892</td>\n",
       "      <td>0.891892</td>\n",
       "      <td>0.972973</td>\n",
       "      <td>0.756757</td>\n",
       "      <td>0.783784</td>\n",
       "    </tr>\n",
       "    <tr>\n",
       "      <th>PC-5</th>\n",
       "      <td>0.864865</td>\n",
       "      <td>0.918919</td>\n",
       "      <td>0.945946</td>\n",
       "      <td>0.918919</td>\n",
       "      <td>0.918919</td>\n",
       "      <td>0.675676</td>\n",
       "      <td>0.837838</td>\n",
       "    </tr>\n",
       "  </tbody>\n",
       "</table>\n",
       "</div>"
      ],
      "text/plain": [
       "      Logistic      SVMl     SVMnl       KNN     Navie  Decision    Random\n",
       "PC-1  0.810811  0.783784  0.810811  0.864865  0.864865  0.810811  0.810811\n",
       "PC-2  0.783784  0.783784  0.864865  0.810811  0.837838  0.648649   0.72973\n",
       "PC-3  0.783784  0.783784  0.918919  0.756757  0.864865  0.675676  0.756757\n",
       "PC-4  0.810811  0.891892  0.891892  0.891892  0.972973  0.756757  0.783784\n",
       "PC-5  0.864865  0.918919  0.945946  0.918919  0.918919  0.675676  0.837838"
      ]
     },
     "execution_count": 35,
     "metadata": {},
     "output_type": "execute_result"
    }
   ],
   "source": [
    "result=kpca_classification(acclog,accsvml,accsvmnl,accknn,accnav,accdes,accrf)\n",
    "result"
   ]
  },
  {
   "cell_type": "code",
   "execution_count": null,
   "id": "2b99b192-b5a8-4780-8209-ffe4ff1c70a0",
   "metadata": {},
   "outputs": [],
   "source": []
  }
 ],
 "metadata": {
  "kernelspec": {
   "display_name": "Python [conda env:base] *",
   "language": "python",
   "name": "conda-base-py"
  },
  "language_info": {
   "codemirror_mode": {
    "name": "ipython",
    "version": 3
   },
   "file_extension": ".py",
   "mimetype": "text/x-python",
   "name": "python",
   "nbconvert_exporter": "python",
   "pygments_lexer": "ipython3",
   "version": "3.12.9"
  }
 },
 "nbformat": 4,
 "nbformat_minor": 5
}
