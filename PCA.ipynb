{
 "cells": [
  {
   "cell_type": "code",
   "execution_count": 1,
   "id": "660947f8-8d59-432d-8cbf-317ad7c28793",
   "metadata": {},
   "outputs": [],
   "source": [
    "import pandas as pd"
   ]
  },
  {
   "cell_type": "code",
   "execution_count": 3,
   "id": "4ea913ba-74e1-413c-817e-aa5f9c4d5385",
   "metadata": {},
   "outputs": [],
   "source": [
    "df=pd.read_csv(\"heart_clean_final.csv\")"
   ]
  },
  {
   "cell_type": "code",
   "execution_count": 46,
   "id": "01d19aa4-23b3-470a-a537-7d1e858f78c0",
   "metadata": {},
   "outputs": [],
   "source": [
    "df2=df"
   ]
  },
  {
   "cell_type": "code",
   "execution_count": 34,
   "id": "697bdf15-7082-4bc1-845b-16475027db91",
   "metadata": {},
   "outputs": [],
   "source": [
    "indep=df2.drop(\"target\",axis=1)\n",
    "dep=df2[\"target\"]"
   ]
  },
  {
   "cell_type": "code",
   "execution_count": 9,
   "id": "ac074cfa-1c82-45fb-91e2-501d9d5ada6f",
   "metadata": {},
   "outputs": [],
   "source": [
    "def split_scalar(indep,dep):\n",
    "    from sklearn.model_selection import train_test_split\n",
    "    from sklearn.preprocessing import StandardScaler\n",
    "    X_train,X_test,Y_train,Y_test=train_test_split(indep,dep,test_size=0.2,random_state=0)\n",
    "    sc=StandardScaler()\n",
    "    X_train_sc=sc.fit_transform(X_train)\n",
    "    X_test_sc=sc.transform(X_test)\n",
    "    return X_train_sc,X_test_sc,Y_train,Y_test"
   ]
  },
  {
   "cell_type": "code",
   "execution_count": 14,
   "id": "60632d44-a8c9-403f-84f1-9a0a3b134a77",
   "metadata": {},
   "outputs": [],
   "source": [
    "def PCA_Classification(X_train_sc,X_test_sc,n):\n",
    "    from sklearn.decomposition import PCA\n",
    "    pca=PCA(n_components=n)\n",
    "    X_train_pca=pca.fit_transform(X_train_sc)\n",
    "    X_test_pca=pca.transform(X_test_sc)\n",
    "    explained_variance=pca.explained_variance_ratio_\n",
    "    return X_train_pca,X_test_pca,explained_variance"
   ]
  },
  {
   "cell_type": "code",
   "execution_count": 16,
   "id": "feefa373-a8b6-459f-b08c-83f30b304eca",
   "metadata": {},
   "outputs": [],
   "source": [
    "def cm_prediction(classifier,X_test_pca,Y_test):\n",
    "    y_pred=classifier.predict(X_test_pca)\n",
    "    from sklearn.metrics import confusion_matrix,accuracy_score,classification_report\n",
    "    cm=confusion_matrix(Y_test,y_pred)\n",
    "    accuracy=accuracy_score(Y_test,y_pred)\n",
    "    report=classification_report(Y_test,y_pred)\n",
    "    return accuracy,report,cm"
   ]
  },
  {
   "cell_type": "code",
   "execution_count": 18,
   "id": "c04540e8-771e-44de-a30a-31e9eeb01c19",
   "metadata": {},
   "outputs": [],
   "source": [
    "def logistic(X_train_pca,X_test_pca,Y_train,Y_test):\n",
    "    from sklearn.linear_model import LogisticRegression\n",
    "    classifier=LogisticRegression(random_state=0)\n",
    "    classifier.fit(X_train_pca,Y_train)\n",
    "    accuracy,report,cm=cm_prediction(classifier,X_test_pca,Y_test)\n",
    "    return classifier,accuracy,report,cm"
   ]
  },
  {
   "cell_type": "code",
   "execution_count": 20,
   "id": "f88db37a-4902-4510-8095-fdaf90fa6e25",
   "metadata": {},
   "outputs": [],
   "source": [
    "def svm_linear(X_train_pca,X_test_pca,Y_train,Y_test):\n",
    "    from sklearn.svm import SVC\n",
    "    classifier=SVC(kernel = 'linear', random_state = 0)\n",
    "    classifier.fit(X_train_pca,Y_train)\n",
    "    accuracy,report,cm=cm_prediction(classifier,X_test_pca,Y_test)\n",
    "    return classifier,accuracy,report,cm"
   ]
  },
  {
   "cell_type": "code",
   "execution_count": 22,
   "id": "c34b07a4-b221-4740-aeba-609ca833494a",
   "metadata": {},
   "outputs": [],
   "source": [
    "def svm_NL(X_train_pca,X_test_pca,Y_train,Y_test):\n",
    "    from sklearn.svm import SVC\n",
    "    classifier=SVC(kernel = 'rbf', random_state = 0)\n",
    "    classifier.fit(X_train_pca,Y_train)\n",
    "    accuracy,report,cm=cm_prediction(classifier,X_test_pca,Y_test)\n",
    "    return classifier,accuracy,report,cm\n",
    "    "
   ]
  },
  {
   "cell_type": "code",
   "execution_count": 24,
   "id": "5479eb73-72d7-4dcf-a73d-2235ced23a17",
   "metadata": {},
   "outputs": [],
   "source": [
    "def Navie(X_train_pca,X_test_pca,Y_train,Y_test):\n",
    "    from sklearn.naive_bayes import GaussianNB\n",
    "    classifier=GaussianNB()\n",
    "    classifier.fit(X_train_pca,Y_train)\n",
    "    accuracy,report,cm=cm_prediction(classifier,X_test_pca,Y_test)\n",
    "    return classifier,accuracy,report,cm\n",
    "    "
   ]
  },
  {
   "cell_type": "code",
   "execution_count": 26,
   "id": "724ad501-2f01-4f5d-8dcd-53b4635561df",
   "metadata": {},
   "outputs": [],
   "source": [
    "def knn(X_train_pca,X_test_pca,Y_train,Y_test):\n",
    "    from sklearn.neighbors import KNeighborsClassifier\n",
    "    classifier = KNeighborsClassifier(n_neighbors = 5, metric = 'minkowski', p = 2)\n",
    "    classifier.fit(X_train_pca,Y_train)\n",
    "    accuracy,report,cm=cm_prediction(classifier,X_test_pca,Y_test)\n",
    "    return classifier,accuracy,report,cm\n",
    "    "
   ]
  },
  {
   "cell_type": "code",
   "execution_count": 28,
   "id": "4bec7d5e-fb56-4663-b7ca-4f08acd13ad6",
   "metadata": {},
   "outputs": [],
   "source": [
    "def Decision(X_train_pca,X_test_pca,Y_train,Y_test):\n",
    "    from sklearn.tree import DecisionTreeClassifier\n",
    "    classifier = DecisionTreeClassifier(criterion = 'entropy', random_state = 0)\n",
    "    classifier.fit(X_train_pca,Y_train)\n",
    "    accuracy,report,cm=cm_prediction(classifier,X_test_pca,Y_test)\n",
    "    return classifier,accuracy,report,cm"
   ]
  },
  {
   "cell_type": "code",
   "execution_count": 30,
   "id": "af3dc591-28fb-4607-a438-d5de6f3acc30",
   "metadata": {},
   "outputs": [],
   "source": [
    "def random(X_train_pca,X_test_pca,Y_train,Y_test):\n",
    "    from sklearn.ensemble import RandomForestClassifier\n",
    "    classifier = RandomForestClassifier(n_estimators = 10, criterion = 'entropy', random_state = 0)\n",
    "    classifier.fit(X_train_pca,Y_train)\n",
    "    accuracy,report,cm=cm_prediction(classifier,X_test_pca,Y_test)\n",
    "    return classifier,accuracy,report,cm"
   ]
  },
  {
   "cell_type": "code",
   "execution_count": 36,
   "id": "25807031-7732-4362-85c2-89bfe2b2aa59",
   "metadata": {},
   "outputs": [],
   "source": [
    "X_train_sc,X_test_sc,Y_train,Y_test=split_scalar(indep,dep)"
   ]
  },
  {
   "cell_type": "code",
   "execution_count": 38,
   "id": "b5e76d40-59b0-49ea-90dc-fd835493051a",
   "metadata": {},
   "outputs": [],
   "source": [
    "acclog=[]\n",
    "accsvml=[]\n",
    "accsvmnl=[]\n",
    "accknn=[]\n",
    "accnav=[]\n",
    "accdes=[]\n",
    "accrf=[]\n",
    "for n in range(1,6):\n",
    "    X_train_pca,X_test_pca,explained_variance=PCA_Classification(X_train_sc,X_test_sc,n)\n",
    "    classifier,accuracy,cm,report=logistic(X_train_pca,X_test_pca,Y_train,Y_test)\n",
    "    acclog.append(accuracy)\n",
    "    classifier,accuracy,cm,report=svm_linear(X_train_pca,X_test_pca,Y_train,Y_test)\n",
    "    accsvml.append(accuracy)\n",
    "    classifier,accuracy,cm,report=svm_NL(X_train_pca,X_test_pca,Y_train,Y_test)\n",
    "    accsvmnl.append(accuracy)\n",
    "    classifier,accuracy,cm,report=knn(X_train_pca,X_test_pca,Y_train,Y_test)\n",
    "    accknn.append(accuracy)\n",
    "    classifier,accuracy,cm,report=Navie(X_train_pca,X_test_pca,Y_train,Y_test)\n",
    "    accnav.append(accuracy)\n",
    "    classifier,accuracy,cm,report=Decision(X_train_pca,X_test_pca,Y_train,Y_test)\n",
    "    accdes.append(accuracy)\n",
    "    classifier,accuracy,cm,report=random(X_train_pca,X_test_pca,Y_train,Y_test)\n",
    "    accrf.append(accuracy)"
   ]
  },
  {
   "cell_type": "code",
   "execution_count": 40,
   "id": "b45aeb25-95a6-4002-aa78-69605ea6d67f",
   "metadata": {},
   "outputs": [],
   "source": [
    "def pca_classification(acclog,accsvml,accsvmnl,accknn,accnav,accdes,accrf):\n",
    "    dataframe=pd.DataFrame(index=['PC-1','PC-2','PC-3','PC-4','PC-5'],columns=['Logistic','SVMl','SVMnl','KNN','Navie','Decision','Random'])\n",
    "    for number,idex in enumerate(dataframe.index):\n",
    "        dataframe.loc[idex,'Logistic']=acclog[number]\n",
    "        dataframe.loc[idex,'SVMl']=accsvml[number]\n",
    "        dataframe.loc[idex,'SVMnl']=accsvmnl[number]\n",
    "        dataframe.loc[idex,'KNN']=accknn[number]\n",
    "        dataframe.loc[idex,'Navie']=accnav[number]\n",
    "        dataframe.loc[idex,'Decision']=accdes[number]\n",
    "        dataframe.loc[idex,'Random']=accrf[number]\n",
    "    return dataframe\n",
    "    \n"
   ]
  },
  {
   "cell_type": "code",
   "execution_count": 42,
   "id": "2b8da028-73ba-4450-beb3-c2404e26d682",
   "metadata": {},
   "outputs": [
    {
     "data": {
      "text/html": [
       "<div>\n",
       "<style scoped>\n",
       "    .dataframe tbody tr th:only-of-type {\n",
       "        vertical-align: middle;\n",
       "    }\n",
       "\n",
       "    .dataframe tbody tr th {\n",
       "        vertical-align: top;\n",
       "    }\n",
       "\n",
       "    .dataframe thead th {\n",
       "        text-align: right;\n",
       "    }\n",
       "</style>\n",
       "<table border=\"1\" class=\"dataframe\">\n",
       "  <thead>\n",
       "    <tr style=\"text-align: right;\">\n",
       "      <th></th>\n",
       "      <th>Logistic</th>\n",
       "      <th>SVMl</th>\n",
       "      <th>SVMnl</th>\n",
       "      <th>KNN</th>\n",
       "      <th>Navie</th>\n",
       "      <th>Decision</th>\n",
       "      <th>Random</th>\n",
       "    </tr>\n",
       "  </thead>\n",
       "  <tbody>\n",
       "    <tr>\n",
       "      <th>PC-1</th>\n",
       "      <td>0.891892</td>\n",
       "      <td>0.891892</td>\n",
       "      <td>0.891892</td>\n",
       "      <td>0.891892</td>\n",
       "      <td>0.918919</td>\n",
       "      <td>0.702703</td>\n",
       "      <td>0.702703</td>\n",
       "    </tr>\n",
       "    <tr>\n",
       "      <th>PC-2</th>\n",
       "      <td>0.891892</td>\n",
       "      <td>0.891892</td>\n",
       "      <td>0.891892</td>\n",
       "      <td>0.891892</td>\n",
       "      <td>0.891892</td>\n",
       "      <td>0.783784</td>\n",
       "      <td>0.810811</td>\n",
       "    </tr>\n",
       "    <tr>\n",
       "      <th>PC-3</th>\n",
       "      <td>0.945946</td>\n",
       "      <td>0.945946</td>\n",
       "      <td>0.945946</td>\n",
       "      <td>0.945946</td>\n",
       "      <td>0.918919</td>\n",
       "      <td>0.810811</td>\n",
       "      <td>0.891892</td>\n",
       "    </tr>\n",
       "    <tr>\n",
       "      <th>PC-4</th>\n",
       "      <td>0.918919</td>\n",
       "      <td>0.891892</td>\n",
       "      <td>0.918919</td>\n",
       "      <td>0.891892</td>\n",
       "      <td>0.918919</td>\n",
       "      <td>0.756757</td>\n",
       "      <td>0.837838</td>\n",
       "    </tr>\n",
       "    <tr>\n",
       "      <th>PC-5</th>\n",
       "      <td>0.918919</td>\n",
       "      <td>0.891892</td>\n",
       "      <td>0.891892</td>\n",
       "      <td>0.891892</td>\n",
       "      <td>0.891892</td>\n",
       "      <td>0.783784</td>\n",
       "      <td>0.864865</td>\n",
       "    </tr>\n",
       "  </tbody>\n",
       "</table>\n",
       "</div>"
      ],
      "text/plain": [
       "      Logistic      SVMl     SVMnl       KNN     Navie  Decision    Random\n",
       "PC-1  0.891892  0.891892  0.891892  0.891892  0.918919  0.702703  0.702703\n",
       "PC-2  0.891892  0.891892  0.891892  0.891892  0.891892  0.783784  0.810811\n",
       "PC-3  0.945946  0.945946  0.945946  0.945946  0.918919  0.810811  0.891892\n",
       "PC-4  0.918919  0.891892  0.918919  0.891892  0.918919  0.756757  0.837838\n",
       "PC-5  0.918919  0.891892  0.891892  0.891892  0.891892  0.783784  0.864865"
      ]
     },
     "execution_count": 42,
     "metadata": {},
     "output_type": "execute_result"
    }
   ],
   "source": [
    "result=pca_classification(acclog,accsvml,accsvmnl,accknn,accnav,accdes,accrf)\n",
    "result"
   ]
  },
  {
   "cell_type": "code",
   "execution_count": null,
   "id": "9ff19e50-494c-41e6-8b7f-8fa0f40c054c",
   "metadata": {},
   "outputs": [],
   "source": [
    " "
   ]
  }
 ],
 "metadata": {
  "kernelspec": {
   "display_name": "Python [conda env:base] *",
   "language": "python",
   "name": "conda-base-py"
  },
  "language_info": {
   "codemirror_mode": {
    "name": "ipython",
    "version": 3
   },
   "file_extension": ".py",
   "mimetype": "text/x-python",
   "name": "python",
   "nbconvert_exporter": "python",
   "pygments_lexer": "ipython3",
   "version": "3.12.9"
  }
 },
 "nbformat": 4,
 "nbformat_minor": 5
}
