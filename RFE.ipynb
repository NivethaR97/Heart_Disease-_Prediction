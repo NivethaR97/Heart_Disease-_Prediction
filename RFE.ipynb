{
 "cells": [
  {
   "cell_type": "code",
   "execution_count": 1,
   "id": "d748ee6c-f88c-409a-a2d2-e810214df32a",
   "metadata": {},
   "outputs": [],
   "source": [
    "import pandas as pd\n",
    "from sklearn.model_selection import train_test_split \n",
    "import time\n",
    "import numpy as np\n",
    "from sklearn.preprocessing import StandardScaler\n",
    "from sklearn.feature_selection import SelectKBest\n",
    "from sklearn.feature_selection import chi2\n",
    "from sklearn.feature_selection import RFE\n",
    "from sklearn.linear_model import LogisticRegression\n",
    "import pickle\n",
    "import matplotlib.pyplot as plt\n",
    "from sklearn.neighbors import KNeighborsClassifier   \n",
    "from sklearn.svm import SVC\n",
    "from sklearn.ensemble import RandomForestClassifier\n",
    "from sklearn.naive_bayes import GaussianNB\n",
    "from sklearn.tree import DecisionTreeClassifier"
   ]
  },
  {
   "cell_type": "code",
   "execution_count": 2,
   "id": "5f64bc38-bf48-471e-af21-8e31b082935c",
   "metadata": {},
   "outputs": [],
   "source": [
    "import warnings\n",
    "warnings.filterwarnings(\"ignore\") "
   ]
  },
  {
   "cell_type": "code",
   "execution_count": 3,
   "id": "f4f8437a-e0db-4d4e-b80b-d352ffc1d50b",
   "metadata": {},
   "outputs": [],
   "source": [
    "df=pd.read_csv(\"heart_clean_final.csv\")\n",
    "df2=df"
   ]
  },
  {
   "cell_type": "code",
   "execution_count": 4,
   "id": "7f1b8e90-c5c8-42b2-85df-a49b2b1e9fd0",
   "metadata": {},
   "outputs": [],
   "source": [
    "indep_X=df2.drop('target',axis=1)\n",
    "dep_Y=df2['target']"
   ]
  },
  {
   "cell_type": "code",
   "execution_count": 9,
   "id": "68521ab8-86e5-4a1b-9329-13e4fa651a27",
   "metadata": {},
   "outputs": [],
   "source": [
    "def rfeFeature(indep_X,dep_Y,n):\n",
    "        rfelist=[]\n",
    "        log_model = LogisticRegression(solver='lbfgs',max_iter=2000,random_state=42)\n",
    "        RF = RandomForestClassifier(n_estimators = 10, criterion = 'entropy', random_state = 42)\n",
    "        DT= DecisionTreeClassifier(criterion = 'gini', max_features='sqrt',splitter='best',random_state = 42)\n",
    "        svc_model = SVC(kernel = 'linear', random_state = 42)\n",
    "        rfemodellist=[log_model,svc_model,RF,DT] \n",
    "        for i in   rfemodellist:\n",
    "            print(i)\n",
    "            log_rfe = RFE(estimator=i, n_features_to_select=n)\n",
    "            log_fit = log_rfe.fit(indep_X,dep_Y)\n",
    "            log_rfe_feature=log_fit.transform(indep_X)\n",
    "            print(\"Selected features\",indep_X.columns[log_fit.support_])\n",
    "            rfelist.append(log_rfe_feature)\n",
    "        return rfelist "
   ]
  },
  {
   "cell_type": "code",
   "execution_count": 11,
   "id": "51a3fe7f-dbee-49e0-a8f3-dc5362fb3ed6",
   "metadata": {},
   "outputs": [],
   "source": [
    "def split_scalar(indep_X,dep_Y):\n",
    "        X_train, X_test, y_train, y_test = train_test_split(indep_X, dep_Y, test_size = 0.25, random_state = 0)\n",
    "        sc = StandardScaler()\n",
    "        X_train = sc.fit_transform(X_train)\n",
    "        X_test = sc.transform(X_test)\n",
    "        return X_train, X_test, y_train, y_test"
   ]
  },
  {
   "cell_type": "code",
   "execution_count": 13,
   "id": "d079bcf4-b400-440a-9162-32b1e664f8df",
   "metadata": {},
   "outputs": [],
   "source": [
    "def cm_prediction(classifier,X_test,y_test):\n",
    "    y_pred = classifier.predict(X_test)\n",
    "    from sklearn.metrics import confusion_matrix\n",
    "    cm = confusion_matrix(y_test, y_pred)\n",
    "    from sklearn.metrics import accuracy_score \n",
    "    from sklearn.metrics import classification_report \n",
    "    Accuracy=accuracy_score(y_test, y_pred )\n",
    "    report=classification_report(y_test, y_pred)\n",
    "    from sklearn.metrics import f1_score\n",
    "    f1=f1_score(y_test,y_pred)\n",
    "    return Accuracy,report,cm,f1"
   ]
  },
  {
   "cell_type": "code",
   "execution_count": 15,
   "id": "7ebf39f9-f9f2-4ae6-9754-9cb4cbc70fd1",
   "metadata": {},
   "outputs": [],
   "source": [
    "def logistic(X_train,y_train,X_test,y_test):      \n",
    "    from sklearn.linear_model import LogisticRegression\n",
    "    classifier = LogisticRegression(random_state = 0)\n",
    "    classifier.fit(X_train, y_train)\n",
    "    Accuracy,report,cm,f1=cm_prediction(classifier,X_test,y_test)\n",
    "    return  classifier,Accuracy,report,cm,f1"
   ]
  },
  {
   "cell_type": "code",
   "execution_count": 17,
   "id": "b4b38f66-1d2f-4b44-b193-acc85f4be59a",
   "metadata": {},
   "outputs": [],
   "source": [
    "def svm_linear(X_train,y_train,X_test,y_test):\n",
    "    from sklearn.svm import SVC\n",
    "    classifier = SVC(kernel = 'linear', random_state = 0)\n",
    "    classifier.fit(X_train, y_train)\n",
    "    Accuracy,report,cm,f1=cm_prediction(classifier,X_test,y_test)\n",
    "    return  classifier,Accuracy,report,cm,f1"
   ]
  },
  {
   "cell_type": "code",
   "execution_count": 19,
   "id": "bcc77fcb-4cfe-43a6-b1ad-b61b995c5ffd",
   "metadata": {},
   "outputs": [],
   "source": [
    "def svm_NL(X_train,y_train,X_test,y_test):\n",
    "    from sklearn.svm import SVC\n",
    "    classifier = SVC(kernel = 'rbf', random_state = 0)\n",
    "    classifier.fit(X_train, y_train)\n",
    "    Accuracy,report,cm,f1=cm_prediction(classifier,X_test,y_test)\n",
    "    return  classifier,Accuracy,report,cm,f1"
   ]
  },
  {
   "cell_type": "code",
   "execution_count": 21,
   "id": "5ded3615-c62b-4b3e-925e-2713a13c4762",
   "metadata": {},
   "outputs": [],
   "source": [
    "def Naive(X_train,y_train,X_test,y_test):       \n",
    "    from sklearn.naive_bayes import GaussianNB\n",
    "    classifier = GaussianNB()\n",
    "    classifier.fit(X_train, y_train)\n",
    "    Accuracy,report,cm,f1=cm_prediction(classifier,X_test,y_test)\n",
    "    return  classifier,Accuracy,report,cm,f1     "
   ]
  },
  {
   "cell_type": "code",
   "execution_count": 23,
   "id": "ce459e10-2163-4774-8166-1f513cf87355",
   "metadata": {},
   "outputs": [],
   "source": [
    "def knn(X_train,y_train,X_test,y_test):\n",
    "    from sklearn.neighbors import KNeighborsClassifier\n",
    "    classifier = KNeighborsClassifier(n_neighbors = 5, metric = 'minkowski', p = 2)\n",
    "    classifier.fit(X_train, y_train)\n",
    "    Accuracy,report,cm,f1=cm_prediction(classifier,X_test,y_test)\n",
    "    return  classifier,Accuracy,report,cm,f1"
   ]
  },
  {
   "cell_type": "code",
   "execution_count": 25,
   "id": "24d7a948-7128-4de8-bf75-ba4d65ca1856",
   "metadata": {},
   "outputs": [],
   "source": [
    "def Decision(X_train,y_train,X_test,y_test):\n",
    "    from sklearn.tree import DecisionTreeClassifier\n",
    "    classifier = DecisionTreeClassifier(criterion = 'entropy', random_state = 0)\n",
    "    classifier.fit(X_train, y_train)\n",
    "    Accuracy,report,cm,f1=cm_prediction(classifier,X_test,y_test)\n",
    "    return  classifier,Accuracy,report,cm,f1"
   ]
  },
  {
   "cell_type": "code",
   "execution_count": 27,
   "id": "4b45f53b-6036-4261-81ff-833358b52a50",
   "metadata": {},
   "outputs": [],
   "source": [
    "def random(X_train,y_train,X_test,y_test):\n",
    "    from sklearn.ensemble import RandomForestClassifier\n",
    "    classifier = RandomForestClassifier(n_estimators = 10, criterion = 'entropy', random_state = 0)\n",
    "    classifier.fit(X_train, y_train)\n",
    "    Accuracy,report,cm,f1=cm_prediction(classifier,X_test,y_test)\n",
    "    return classifier,Accuracy,report,cm,f1"
   ]
  },
  {
   "cell_type": "code",
   "execution_count": 29,
   "id": "2ca23402-3e55-4cdc-ba1d-6297f48ae65f",
   "metadata": {},
   "outputs": [],
   "source": [
    "def Xgboost(X_train,y_train,X_test,y_test):\n",
    "    from xgboost import XGBClassifier\n",
    "    classifier =XGBClassifier()\n",
    "    classifier.fit(X_train, y_train)\n",
    "    Accuracy,report,cm,f1=cm_prediction(classifier,X_test,y_test)\n",
    "    return classifier,Accuracy,report,cm,f1     "
   ]
  },
  {
   "cell_type": "code",
   "execution_count": 31,
   "id": "4bc53360-9bc1-41cd-8108-bfcf3af9b60e",
   "metadata": {},
   "outputs": [],
   "source": [
    "def AdaBoost(X_train,y_train,X_test,y_test):\n",
    "    from sklearn.ensemble import AdaBoostClassifier\n",
    "    classifier=AdaBoostClassifier()\n",
    "    classifier.fit(X_train,y_train)\n",
    "    Accuracy,report,cm,f1=cm_prediction(classifier,X_test,y_test)\n",
    "    return classifier,Accuracy,report,cm,f1 "
   ]
  },
  {
   "cell_type": "code",
   "execution_count": 33,
   "id": "3c41d419-62ba-489a-9cbd-e66d827334bb",
   "metadata": {},
   "outputs": [],
   "source": [
    "def LightGBM(X_train,y_train,X_test,y_test):\n",
    "    from lightgbm import LGBMClassifier\n",
    "    classifier=LGBMClassifier(verbose=-1)\n",
    "    classifier.fit(X_train,y_train)\n",
    "    Accuracy,report,cm,f1=cm_prediction(classifier,X_test,y_test)\n",
    "    return classifier,Accuracy,report,cm,f1 \n",
    "    "
   ]
  },
  {
   "cell_type": "code",
   "execution_count": 35,
   "id": "1185d2a0-716d-41fc-9d22-c03e849b1589",
   "metadata": {},
   "outputs": [],
   "source": [
    "def rfe_classification(acclog,accsvml,accsvmnl,accknn,accnav,accdes,accrf,accxg,accada,acclgbm): \n",
    "    rfedataframe=pd.DataFrame(index=['Logistic','SVC','Random','DecisionTree'],columns=['Logistic','SVMl','SVMnl','KNN','Naive','Decision','Random','XgBoost','AdaBoost','LightGBM'])\n",
    "    for number,idex in enumerate(rfedataframe.index):\n",
    "        rfedataframe.loc[idex,'Logistic']=acclog[number]       \n",
    "        rfedataframe.loc[idex,'SVMl']=accsvml[number]\n",
    "        rfedataframe.loc[idex,'SVMnl']=accsvmnl[number]\n",
    "        rfedataframe.loc[idex,'KNN']=accknn[number]\n",
    "        rfedataframe.loc[idex,'Naive']=accnav[number]\n",
    "        rfedataframe.loc[idex,'Decision']=accdes[number]\n",
    "        rfedataframe.loc[idex,'Random']=accrf[number]\n",
    "        rfedataframe.loc[idex,'XgBoost']=accxg[number]\n",
    "        rfedataframe.loc[idex,'AdaBoost']=accada[number]\n",
    "        rfedataframe.loc[idex,'LightGBM']=acclgbm[number]\n",
    "    return rfedataframe"
   ]
  },
  {
   "cell_type": "code",
   "execution_count": 37,
   "id": "6427396c-3feb-426d-aff1-f31c0e5c8e6f",
   "metadata": {},
   "outputs": [],
   "source": [
    "X_train,X_test,y_train,y_test=split_scalar(indep_X,dep_Y)"
   ]
  },
  {
   "cell_type": "code",
   "execution_count": 63,
   "id": "46e915ad-076f-4b61-b31e-e466f6353e12",
   "metadata": {},
   "outputs": [
    {
     "name": "stdout",
     "output_type": "stream",
     "text": [
      "LogisticRegression(max_iter=2000, random_state=42)\n",
      "Selected features Index(['sex', 'cp', 'restecg', 'exang', 'oldpeak', 'slope', 'ca', 'thal'], dtype='object')\n",
      "SVC(kernel='linear', random_state=42)\n",
      "Selected features Index(['sex', 'cp', 'fbs', 'exang', 'oldpeak', 'slope', 'ca', 'thal'], dtype='object')\n",
      "RandomForestClassifier(criterion='entropy', n_estimators=10, random_state=42)\n",
      "Selected features Index(['age', 'sex', 'cp', 'trestbps', 'chol', 'thalach', 'oldpeak', 'ca'], dtype='object')\n",
      "DecisionTreeClassifier(max_features='sqrt', random_state=42)\n",
      "Selected features Index(['age', 'sex', 'cp', 'chol', 'thalach', 'oldpeak', 'slope', 'ca'], dtype='object')\n"
     ]
    }
   ],
   "source": [
    "rfelist=rfeFeature(indep_X,dep_Y,8)       \n",
    "acclog=[]\n",
    "accsvml=[]\n",
    "accsvmnl=[]\n",
    "accknn=[]\n",
    "accnav=[]\n",
    "accdes=[]\n",
    "accrf=[]\n",
    "accxg=[]\n",
    "accada=[]\n",
    "acclgbm=[]\n",
    "for i in rfelist:   \n",
    "    X_train, X_test, y_train, y_test=split_scalar(i,dep_Y)   \n",
    "    classifier,Accuracy,report,cm,f1=logistic(X_train,y_train,X_test,y_test)\n",
    "    acclog.append(Accuracy)\n",
    "    \n",
    "    classifier,Accuracy,report,cm,f1=svm_linear(X_train,y_train,X_test,y_test)  \n",
    "    accsvml.append(Accuracy)\n",
    "    \n",
    "    classifier,Accuracy,report,cm,f1=svm_NL(X_train,y_train,X_test,y_test)  \n",
    "    accsvmnl.append(Accuracy)\n",
    "    \n",
    "    classifier,Accuracy,report,cm,f1=knn(X_train,y_train,X_test,y_test)  \n",
    "    accknn.append(Accuracy)\n",
    "    \n",
    "    classifier,Accuracy,report,cm,f1=Naive(X_train,y_train,X_test,y_test)  \n",
    "    accnav.append(Accuracy)\n",
    "    \n",
    "    classifier,Accuracy,report,cm,f1=Decision(X_train,y_train,X_test,y_test)  \n",
    "    accdes.append(Accuracy)\n",
    "    \n",
    "    classifier,Accuracy,report,cm,f1=random(X_train,y_train,X_test,y_test)  \n",
    "    accrf.append(Accuracy)\n",
    "\n",
    "    classifier,Accuracy,report,cm,f1=Xgboost(X_train,y_train,X_test,y_test)  \n",
    "    accxg.append(Accuracy)\n",
    "\n",
    "    classifier,Accuracy,report,cm,f1=AdaBoost(X_train,y_train,X_test,y_test)  \n",
    "    accada.append(Accuracy)\n",
    "\n",
    "    classifier,Accuracy,report,cm,f1=LightGBM(X_train,y_train,X_test,y_test)  \n",
    "    acclgbm.append(Accuracy)\n",
    "    \n"
   ]
  },
  {
   "cell_type": "code",
   "execution_count": 65,
   "id": "34457ea5-3039-4e0c-aa78-f45751fed012",
   "metadata": {},
   "outputs": [
    {
     "data": {
      "text/html": [
       "<style type=\"text/css\">\n",
       "#T_a8f6b_row0_col1, #T_a8f6b_row0_col2, #T_a8f6b_row0_col7, #T_a8f6b_row1_col1, #T_a8f6b_row1_col2, #T_a8f6b_row2_col1, #T_a8f6b_row2_col8, #T_a8f6b_row3_col1 {\n",
       "  background-color: lightgreen;\n",
       "}\n",
       "</style>\n",
       "<table id=\"T_a8f6b\">\n",
       "  <thead>\n",
       "    <tr>\n",
       "      <th class=\"blank level0\" >&nbsp;</th>\n",
       "      <th id=\"T_a8f6b_level0_col0\" class=\"col_heading level0 col0\" >Logistic</th>\n",
       "      <th id=\"T_a8f6b_level0_col1\" class=\"col_heading level0 col1\" >SVMl</th>\n",
       "      <th id=\"T_a8f6b_level0_col2\" class=\"col_heading level0 col2\" >SVMnl</th>\n",
       "      <th id=\"T_a8f6b_level0_col3\" class=\"col_heading level0 col3\" >KNN</th>\n",
       "      <th id=\"T_a8f6b_level0_col4\" class=\"col_heading level0 col4\" >Naive</th>\n",
       "      <th id=\"T_a8f6b_level0_col5\" class=\"col_heading level0 col5\" >Decision</th>\n",
       "      <th id=\"T_a8f6b_level0_col6\" class=\"col_heading level0 col6\" >Random</th>\n",
       "      <th id=\"T_a8f6b_level0_col7\" class=\"col_heading level0 col7\" >XgBoost</th>\n",
       "      <th id=\"T_a8f6b_level0_col8\" class=\"col_heading level0 col8\" >AdaBoost</th>\n",
       "      <th id=\"T_a8f6b_level0_col9\" class=\"col_heading level0 col9\" >LightGBM</th>\n",
       "    </tr>\n",
       "  </thead>\n",
       "  <tbody>\n",
       "    <tr>\n",
       "      <th id=\"T_a8f6b_level0_row0\" class=\"row_heading level0 row0\" >Logistic</th>\n",
       "      <td id=\"T_a8f6b_row0_col0\" class=\"data row0 col0\" >0.869565</td>\n",
       "      <td id=\"T_a8f6b_row0_col1\" class=\"data row0 col1\" >0.891304</td>\n",
       "      <td id=\"T_a8f6b_row0_col2\" class=\"data row0 col2\" >0.891304</td>\n",
       "      <td id=\"T_a8f6b_row0_col3\" class=\"data row0 col3\" >0.847826</td>\n",
       "      <td id=\"T_a8f6b_row0_col4\" class=\"data row0 col4\" >0.869565</td>\n",
       "      <td id=\"T_a8f6b_row0_col5\" class=\"data row0 col5\" >0.782609</td>\n",
       "      <td id=\"T_a8f6b_row0_col6\" class=\"data row0 col6\" >0.804348</td>\n",
       "      <td id=\"T_a8f6b_row0_col7\" class=\"data row0 col7\" >0.891304</td>\n",
       "      <td id=\"T_a8f6b_row0_col8\" class=\"data row0 col8\" >0.847826</td>\n",
       "      <td id=\"T_a8f6b_row0_col9\" class=\"data row0 col9\" >0.869565</td>\n",
       "    </tr>\n",
       "    <tr>\n",
       "      <th id=\"T_a8f6b_level0_row1\" class=\"row_heading level0 row1\" >SVC</th>\n",
       "      <td id=\"T_a8f6b_row1_col0\" class=\"data row1 col0\" >0.869565</td>\n",
       "      <td id=\"T_a8f6b_row1_col1\" class=\"data row1 col1\" >0.891304</td>\n",
       "      <td id=\"T_a8f6b_row1_col2\" class=\"data row1 col2\" >0.891304</td>\n",
       "      <td id=\"T_a8f6b_row1_col3\" class=\"data row1 col3\" >0.847826</td>\n",
       "      <td id=\"T_a8f6b_row1_col4\" class=\"data row1 col4\" >0.869565</td>\n",
       "      <td id=\"T_a8f6b_row1_col5\" class=\"data row1 col5\" >0.847826</td>\n",
       "      <td id=\"T_a8f6b_row1_col6\" class=\"data row1 col6\" >0.826087</td>\n",
       "      <td id=\"T_a8f6b_row1_col7\" class=\"data row1 col7\" >0.847826</td>\n",
       "      <td id=\"T_a8f6b_row1_col8\" class=\"data row1 col8\" >0.847826</td>\n",
       "      <td id=\"T_a8f6b_row1_col9\" class=\"data row1 col9\" >0.869565</td>\n",
       "    </tr>\n",
       "    <tr>\n",
       "      <th id=\"T_a8f6b_level0_row2\" class=\"row_heading level0 row2\" >Random</th>\n",
       "      <td id=\"T_a8f6b_row2_col0\" class=\"data row2 col0\" >0.891304</td>\n",
       "      <td id=\"T_a8f6b_row2_col1\" class=\"data row2 col1\" >0.913043</td>\n",
       "      <td id=\"T_a8f6b_row2_col2\" class=\"data row2 col2\" >0.891304</td>\n",
       "      <td id=\"T_a8f6b_row2_col3\" class=\"data row2 col3\" >0.891304</td>\n",
       "      <td id=\"T_a8f6b_row2_col4\" class=\"data row2 col4\" >0.891304</td>\n",
       "      <td id=\"T_a8f6b_row2_col5\" class=\"data row2 col5\" >0.826087</td>\n",
       "      <td id=\"T_a8f6b_row2_col6\" class=\"data row2 col6\" >0.847826</td>\n",
       "      <td id=\"T_a8f6b_row2_col7\" class=\"data row2 col7\" >0.869565</td>\n",
       "      <td id=\"T_a8f6b_row2_col8\" class=\"data row2 col8\" >0.913043</td>\n",
       "      <td id=\"T_a8f6b_row2_col9\" class=\"data row2 col9\" >0.869565</td>\n",
       "    </tr>\n",
       "    <tr>\n",
       "      <th id=\"T_a8f6b_level0_row3\" class=\"row_heading level0 row3\" >DecisionTree</th>\n",
       "      <td id=\"T_a8f6b_row3_col0\" class=\"data row3 col0\" >0.869565</td>\n",
       "      <td id=\"T_a8f6b_row3_col1\" class=\"data row3 col1\" >0.913043</td>\n",
       "      <td id=\"T_a8f6b_row3_col2\" class=\"data row3 col2\" >0.869565</td>\n",
       "      <td id=\"T_a8f6b_row3_col3\" class=\"data row3 col3\" >0.891304</td>\n",
       "      <td id=\"T_a8f6b_row3_col4\" class=\"data row3 col4\" >0.891304</td>\n",
       "      <td id=\"T_a8f6b_row3_col5\" class=\"data row3 col5\" >0.869565</td>\n",
       "      <td id=\"T_a8f6b_row3_col6\" class=\"data row3 col6\" >0.847826</td>\n",
       "      <td id=\"T_a8f6b_row3_col7\" class=\"data row3 col7\" >0.891304</td>\n",
       "      <td id=\"T_a8f6b_row3_col8\" class=\"data row3 col8\" >0.869565</td>\n",
       "      <td id=\"T_a8f6b_row3_col9\" class=\"data row3 col9\" >0.869565</td>\n",
       "    </tr>\n",
       "  </tbody>\n",
       "</table>\n"
      ],
      "text/plain": [
       "<pandas.io.formats.style.Styler at 0x19a0213eb10>"
      ]
     },
     "execution_count": 65,
     "metadata": {},
     "output_type": "execute_result"
    }
   ],
   "source": [
    "result=rfe_classification(acclog,accsvml,accsvmnl,accknn,accnav,accdes,accrf,accxg,accada,acclgbm)\n",
    "highlighted_result=result.style.highlight_max(axis=1,color=\"lightgreen\")\n",
    "highlighted_result"
   ]
  },
  {
   "cell_type": "code",
   "execution_count": 73,
   "id": "5d38f3a6-6299-4a77-b90a-39285ff4207b",
   "metadata": {},
   "outputs": [
    {
     "name": "stdout",
     "output_type": "stream",
     "text": [
      "LogisticRegression(max_iter=2000, random_state=42)\n",
      "Selected features Index(['sex', 'cp', 'restecg', 'exang', 'oldpeak', 'slope', 'ca', 'thal'], dtype='object')\n",
      "SVC(kernel='linear', random_state=42)\n",
      "Selected features Index(['sex', 'cp', 'fbs', 'exang', 'oldpeak', 'slope', 'ca', 'thal'], dtype='object')\n",
      "RandomForestClassifier(criterion='entropy', n_estimators=10, random_state=42)\n",
      "Selected features Index(['age', 'sex', 'cp', 'trestbps', 'chol', 'thalach', 'oldpeak', 'ca'], dtype='object')\n",
      "DecisionTreeClassifier(max_features='sqrt', random_state=42)\n",
      "Selected features Index(['age', 'sex', 'cp', 'chol', 'thalach', 'oldpeak', 'slope', 'ca'], dtype='object')\n"
     ]
    }
   ],
   "source": [
    "rfelist=rfeFeature(indep_X,dep_Y,8)  \n",
    "f1log=[]\n",
    "f1svml=[]\n",
    "f1svmnl=[]\n",
    "f1knn=[]\n",
    "f1nav=[]\n",
    "f1des=[]\n",
    "f1rf=[]\n",
    "f1xg=[]\n",
    "f1ada=[]\n",
    "f1lgbm=[]\n",
    "for i in rfelist:   \n",
    "    X_train, X_test, y_train, y_test=split_scalar(i,dep_Y) \n",
    "    classifier,Accuracy,report,cm,f1=logistic(X_train,y_train,X_test,y_test)\n",
    "    f1log.append(f1)\n",
    "    \n",
    "    classifier,Accuracy,report,cm,f1=svm_linear(X_train,y_train,X_test,y_test)  \n",
    "    f1svml.append(f1)\n",
    "        \n",
    "    classifier,Accuracy,report,cm,f1=svm_NL(X_train,y_train,X_test,y_test)  \n",
    "    f1svmnl.append(f1)\n",
    "        \n",
    "    classifier,Accuracy,report,cm,f1=knn(X_train,y_train,X_test,y_test)  \n",
    "    f1knn.append(f1)\n",
    "        \n",
    "    classifier,Accuracy,report,cm,f1=Naive(X_train,y_train,X_test,y_test)  \n",
    "    f1nav.append(f1)\n",
    "        \n",
    "    classifier,Accuracy,report,cm,f1=Decision(X_train,y_train,X_test,y_test)  \n",
    "    f1des.append(f1)\n",
    "        \n",
    "    classifier,Accuracy,report,cm,f1=random(X_train,y_train,X_test,y_test)  \n",
    "    f1rf.append(f1)\n",
    "    classifier,Accuracy,report,cm,f1=Xgboost(X_train,y_train,X_test,y_test)  \n",
    "    f1xg.append(f1)\n",
    "\n",
    "    classifier,Accuracy,report,cm,f1=AdaBoost(X_train,y_train,X_test,y_test)  \n",
    "    f1ada.append(f1)\n",
    "\n",
    "    classifier,Accuracy,report,cm,f1=LightGBM(X_train,y_train,X_test,y_test)  \n",
    "    f1lgbm.append(f1)\n",
    "    \n"
   ]
  },
  {
   "cell_type": "code",
   "execution_count": 74,
   "id": "ae0b8a39-087a-407b-b7f5-ebdebbc0de65",
   "metadata": {},
   "outputs": [],
   "source": [
    "def rfe_classification(f1log,f1svml,f1svmnl,f1knn,f1nav,f1des,f1rf,f1xg,f1ada,f1lgbm): \n",
    "    rfedataframe=pd.DataFrame(index=['Logistic','SVC','Random','DecisionTree'],columns=['Logistic','SVMl','SVMnl','KNN','Naive','Decision','Random','XgBoost','AdaBoost','LightGBM'])\n",
    "    for number,idex in enumerate(rfedataframe.index):\n",
    "        rfedataframe.loc[idex,'Logistic']=f1log[number]       \n",
    "        rfedataframe.loc[idex,'SVMl']=f1svml[number]\n",
    "        rfedataframe.loc[idex,'SVMnl']=f1svmnl[number]\n",
    "        rfedataframe.loc[idex,'KNN']=f1knn[number]\n",
    "        rfedataframe.loc[idex,'Naive']=f1nav[number]\n",
    "        rfedataframe.loc[idex,'Decision']=f1des[number]\n",
    "        rfedataframe.loc[idex,'Random']=f1rf[number]\n",
    "        rfedataframe.loc[idex,'XgBoost']=f1xg[number]\n",
    "        rfedataframe.loc[idex,'AdaBoost']=f1ada[number]\n",
    "        rfedataframe.loc[idex,'LightGBM']=f1lgbm[number]\n",
    "    return rfedataframe"
   ]
  },
  {
   "cell_type": "code",
   "execution_count": 77,
   "id": "e5b3a26e-a2ed-43fa-854f-f4f22b8cdb8d",
   "metadata": {},
   "outputs": [
    {
     "data": {
      "text/html": [
       "<style type=\"text/css\">\n",
       "#T_c365d_row0_col1, #T_c365d_row1_col1, #T_c365d_row2_col1, #T_c365d_row2_col8, #T_c365d_row3_col1 {\n",
       "  background-color: lightgreen;\n",
       "}\n",
       "</style>\n",
       "<table id=\"T_c365d\">\n",
       "  <thead>\n",
       "    <tr>\n",
       "      <th class=\"blank level0\" >&nbsp;</th>\n",
       "      <th id=\"T_c365d_level0_col0\" class=\"col_heading level0 col0\" >Logistic</th>\n",
       "      <th id=\"T_c365d_level0_col1\" class=\"col_heading level0 col1\" >SVMl</th>\n",
       "      <th id=\"T_c365d_level0_col2\" class=\"col_heading level0 col2\" >SVMnl</th>\n",
       "      <th id=\"T_c365d_level0_col3\" class=\"col_heading level0 col3\" >KNN</th>\n",
       "      <th id=\"T_c365d_level0_col4\" class=\"col_heading level0 col4\" >Naive</th>\n",
       "      <th id=\"T_c365d_level0_col5\" class=\"col_heading level0 col5\" >Decision</th>\n",
       "      <th id=\"T_c365d_level0_col6\" class=\"col_heading level0 col6\" >Random</th>\n",
       "      <th id=\"T_c365d_level0_col7\" class=\"col_heading level0 col7\" >XgBoost</th>\n",
       "      <th id=\"T_c365d_level0_col8\" class=\"col_heading level0 col8\" >AdaBoost</th>\n",
       "      <th id=\"T_c365d_level0_col9\" class=\"col_heading level0 col9\" >LightGBM</th>\n",
       "    </tr>\n",
       "  </thead>\n",
       "  <tbody>\n",
       "    <tr>\n",
       "      <th id=\"T_c365d_level0_row0\" class=\"row_heading level0 row0\" >Logistic</th>\n",
       "      <td id=\"T_c365d_row0_col0\" class=\"data row0 col0\" >0.918919</td>\n",
       "      <td id=\"T_c365d_row0_col1\" class=\"data row0 col1\" >0.933333</td>\n",
       "      <td id=\"T_c365d_row0_col2\" class=\"data row0 col2\" >0.931507</td>\n",
       "      <td id=\"T_c365d_row0_col3\" class=\"data row0 col3\" >0.901408</td>\n",
       "      <td id=\"T_c365d_row0_col4\" class=\"data row0 col4\" >0.916667</td>\n",
       "      <td id=\"T_c365d_row0_col5\" class=\"data row0 col5\" >0.852941</td>\n",
       "      <td id=\"T_c365d_row0_col6\" class=\"data row0 col6\" >0.869565</td>\n",
       "      <td id=\"T_c365d_row0_col7\" class=\"data row0 col7\" >0.929577</td>\n",
       "      <td id=\"T_c365d_row0_col8\" class=\"data row0 col8\" >0.901408</td>\n",
       "      <td id=\"T_c365d_row0_col9\" class=\"data row0 col9\" >0.916667</td>\n",
       "    </tr>\n",
       "    <tr>\n",
       "      <th id=\"T_c365d_level0_row1\" class=\"row_heading level0 row1\" >SVC</th>\n",
       "      <td id=\"T_c365d_row1_col0\" class=\"data row1 col0\" >0.918919</td>\n",
       "      <td id=\"T_c365d_row1_col1\" class=\"data row1 col1\" >0.933333</td>\n",
       "      <td id=\"T_c365d_row1_col2\" class=\"data row1 col2\" >0.931507</td>\n",
       "      <td id=\"T_c365d_row1_col3\" class=\"data row1 col3\" >0.901408</td>\n",
       "      <td id=\"T_c365d_row1_col4\" class=\"data row1 col4\" >0.916667</td>\n",
       "      <td id=\"T_c365d_row1_col5\" class=\"data row1 col5\" >0.901408</td>\n",
       "      <td id=\"T_c365d_row1_col6\" class=\"data row1 col6\" >0.885714</td>\n",
       "      <td id=\"T_c365d_row1_col7\" class=\"data row1 col7\" >0.901408</td>\n",
       "      <td id=\"T_c365d_row1_col8\" class=\"data row1 col8\" >0.901408</td>\n",
       "      <td id=\"T_c365d_row1_col9\" class=\"data row1 col9\" >0.916667</td>\n",
       "    </tr>\n",
       "    <tr>\n",
       "      <th id=\"T_c365d_level0_row2\" class=\"row_heading level0 row2\" >Random</th>\n",
       "      <td id=\"T_c365d_row2_col0\" class=\"data row2 col0\" >0.929577</td>\n",
       "      <td id=\"T_c365d_row2_col1\" class=\"data row2 col1\" >0.945946</td>\n",
       "      <td id=\"T_c365d_row2_col2\" class=\"data row2 col2\" >0.933333</td>\n",
       "      <td id=\"T_c365d_row2_col3\" class=\"data row2 col3\" >0.931507</td>\n",
       "      <td id=\"T_c365d_row2_col4\" class=\"data row2 col4\" >0.929577</td>\n",
       "      <td id=\"T_c365d_row2_col5\" class=\"data row2 col5\" >0.885714</td>\n",
       "      <td id=\"T_c365d_row2_col6\" class=\"data row2 col6\" >0.906667</td>\n",
       "      <td id=\"T_c365d_row2_col7\" class=\"data row2 col7\" >0.921053</td>\n",
       "      <td id=\"T_c365d_row2_col8\" class=\"data row2 col8\" >0.945946</td>\n",
       "      <td id=\"T_c365d_row2_col9\" class=\"data row2 col9\" >0.921053</td>\n",
       "    </tr>\n",
       "    <tr>\n",
       "      <th id=\"T_c365d_level0_row3\" class=\"row_heading level0 row3\" >DecisionTree</th>\n",
       "      <td id=\"T_c365d_row3_col0\" class=\"data row3 col0\" >0.916667</td>\n",
       "      <td id=\"T_c365d_row3_col1\" class=\"data row3 col1\" >0.945946</td>\n",
       "      <td id=\"T_c365d_row3_col2\" class=\"data row3 col2\" >0.923077</td>\n",
       "      <td id=\"T_c365d_row3_col3\" class=\"data row3 col3\" >0.931507</td>\n",
       "      <td id=\"T_c365d_row3_col4\" class=\"data row3 col4\" >0.929577</td>\n",
       "      <td id=\"T_c365d_row3_col5\" class=\"data row3 col5\" >0.914286</td>\n",
       "      <td id=\"T_c365d_row3_col6\" class=\"data row3 col6\" >0.906667</td>\n",
       "      <td id=\"T_c365d_row3_col7\" class=\"data row3 col7\" >0.935065</td>\n",
       "      <td id=\"T_c365d_row3_col8\" class=\"data row3 col8\" >0.918919</td>\n",
       "      <td id=\"T_c365d_row3_col9\" class=\"data row3 col9\" >0.921053</td>\n",
       "    </tr>\n",
       "  </tbody>\n",
       "</table>\n"
      ],
      "text/plain": [
       "<pandas.io.formats.style.Styler at 0x19a021638c0>"
      ]
     },
     "execution_count": 77,
     "metadata": {},
     "output_type": "execute_result"
    }
   ],
   "source": [
    "result=rfe_classification(f1log,f1svml,f1svmnl,f1knn,f1nav,f1des,f1rf,f1xg,f1ada,f1lgbm)\n",
    "highlighted_result=result.style.highlight_max(axis=1,color=\"lightgreen\")\n",
    "highlighted_result"
   ]
  },
  {
   "cell_type": "code",
   "execution_count": null,
   "id": "4b8107ce-d3e6-47d6-bf27-30f0adcd961f",
   "metadata": {},
   "outputs": [],
   "source": []
  },
  {
   "cell_type": "code",
   "execution_count": null,
   "id": "d5355145-8803-420e-b012-66fb8e7f0983",
   "metadata": {},
   "outputs": [],
   "source": []
  },
  {
   "cell_type": "code",
   "execution_count": null,
   "id": "2f217bac-c82d-4d12-b48e-732577b9eb61",
   "metadata": {},
   "outputs": [],
   "source": []
  }
 ],
 "metadata": {
  "kernelspec": {
   "display_name": "Python [conda env:base] *",
   "language": "python",
   "name": "conda-base-py"
  },
  "language_info": {
   "codemirror_mode": {
    "name": "ipython",
    "version": 3
   },
   "file_extension": ".py",
   "mimetype": "text/x-python",
   "name": "python",
   "nbconvert_exporter": "python",
   "pygments_lexer": "ipython3",
   "version": "3.12.9"
  }
 },
 "nbformat": 4,
 "nbformat_minor": 5
}
