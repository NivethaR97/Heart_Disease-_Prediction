{
 "cells": [
  {
   "cell_type": "code",
   "execution_count": 1,
   "id": "b6d2ddb3-9bf0-4216-b55f-b21ef956c9ab",
   "metadata": {},
   "outputs": [],
   "source": [
    "import pandas as pd"
   ]
  },
  {
   "cell_type": "code",
   "execution_count": 3,
   "id": "684d5d8b-6089-4df2-9177-07886659a16b",
   "metadata": {},
   "outputs": [],
   "source": [
    "df=pd.read_csv(\"heart_clean_final.csv\")"
   ]
  },
  {
   "cell_type": "code",
   "execution_count": 5,
   "id": "4d25a03d-b7ad-4650-abbf-ebf6d1c032bc",
   "metadata": {},
   "outputs": [],
   "source": [
    "df2=df"
   ]
  },
  {
   "cell_type": "code",
   "execution_count": 7,
   "id": "b619066d-3b3a-4b88-a4ef-682dc9b1c969",
   "metadata": {},
   "outputs": [],
   "source": [
    "indep=df2.drop(\"target\",axis=1)\n",
    "dep=df2[\"target\"]"
   ]
  },
  {
   "cell_type": "code",
   "execution_count": 9,
   "id": "3b7e5a11-32bd-4a99-8830-b6d605e5c740",
   "metadata": {},
   "outputs": [],
   "source": [
    "def split_scalar(indep,dep):\n",
    "    from sklearn.model_selection import train_test_split\n",
    "    from sklearn.preprocessing import StandardScaler\n",
    "    X_train,X_test,Y_train,Y_test=train_test_split(indep,dep,test_size=0.2,random_state=0)\n",
    "    sc=StandardScaler()\n",
    "    X_train_sc=sc.fit_transform(X_train)\n",
    "    X_test_sc=sc.transform(X_test)\n",
    "    return X_train_sc,X_test_sc,Y_train,Y_test"
   ]
  },
  {
   "cell_type": "code",
   "execution_count": 11,
   "id": "f2318feb-7196-4d21-a4b4-3f21c0fe2b56",
   "metadata": {},
   "outputs": [],
   "source": [
    "def LDA_Classification(X_train_sc,X_test_sc,Y_train,n):\n",
    "    from sklearn.discriminant_analysis import LinearDiscriminantAnalysis as LDA\n",
    "    lda = LDA(n_components = n)\n",
    "    X_train_lda = lda.fit_transform(X_train_sc, Y_train)\n",
    "    X_test_lda = lda.transform(X_test_sc)\n",
    "    return X_train_lda,X_test_lda"
   ]
  },
  {
   "cell_type": "code",
   "execution_count": 13,
   "id": "5960c0a0-026a-4e79-b461-79400be284f0",
   "metadata": {},
   "outputs": [],
   "source": [
    "def cm_prediction(classifier,X_test_lda,Y_test):\n",
    "    y_pred=classifier.predict(X_test_lda)\n",
    "    from sklearn.metrics import confusion_matrix,accuracy_score,classification_report\n",
    "    cm=confusion_matrix(Y_test,y_pred)\n",
    "    accuracy=accuracy_score(Y_test,y_pred)\n",
    "    report=classification_report(Y_test,y_pred)\n",
    "    return accuracy,report,cm"
   ]
  },
  {
   "cell_type": "code",
   "execution_count": 15,
   "id": "5e1e3e2e-0c34-49a2-83fc-51de3463f723",
   "metadata": {},
   "outputs": [],
   "source": [
    "def logistic(X_train_lda,X_test_lda,Y_train,Y_test):\n",
    "    from sklearn.linear_model import LogisticRegression\n",
    "    classifier=LogisticRegression(random_state=0)\n",
    "    classifier.fit(X_train_lda,Y_train)\n",
    "    accuracy,report,cm=cm_prediction(classifier,X_test_lda,Y_test)\n",
    "    return classifier,accuracy,report,cm"
   ]
  },
  {
   "cell_type": "code",
   "execution_count": 17,
   "id": "fb7f2109-0dce-4caf-82d7-321759e72beb",
   "metadata": {},
   "outputs": [],
   "source": [
    "def svm_linear(X_train_lda,X_test_lda,Y_train,Y_test):\n",
    "    from sklearn.svm import SVC\n",
    "    classifier=SVC(kernel = 'linear', random_state = 0)\n",
    "    classifier.fit(X_train_lda,Y_train)\n",
    "    accuracy,report,cm=cm_prediction(classifier,X_test_lda,Y_test)\n",
    "    return classifier,accuracy,report,cm"
   ]
  },
  {
   "cell_type": "code",
   "execution_count": 19,
   "id": "82dc7be3-540e-4163-9bef-173127931945",
   "metadata": {},
   "outputs": [],
   "source": [
    "def svm_NL(X_train_lda,X_test_lda,Y_train,Y_test):\n",
    "    from sklearn.svm import SVC\n",
    "    classifier=SVC(kernel = 'rbf', random_state = 0)\n",
    "    classifier.fit(X_train_lda,Y_train)\n",
    "    accuracy,report,cm=cm_prediction(classifier,X_test_lda,Y_test)\n",
    "    return classifier,accuracy,report,cm"
   ]
  },
  {
   "cell_type": "code",
   "execution_count": 21,
   "id": "511a1e53-88bd-4549-82ab-ef5501293b4d",
   "metadata": {},
   "outputs": [],
   "source": [
    "def Navie(X_train_lda,X_test_lda,Y_train,Y_test):\n",
    "    from sklearn.naive_bayes import GaussianNB\n",
    "    classifier=GaussianNB()\n",
    "    classifier.fit(X_train_lda,Y_train)\n",
    "    accuracy,report,cm=cm_prediction(classifier,X_test_lda,Y_test)\n",
    "    return classifier,accuracy,report,cm"
   ]
  },
  {
   "cell_type": "code",
   "execution_count": 23,
   "id": "27dd58f8-beed-4fa8-a458-f7b0fa1ef984",
   "metadata": {},
   "outputs": [],
   "source": [
    "def knn(X_train_lda,X_test_lda,Y_train,Y_test):\n",
    "    from sklearn.neighbors import KNeighborsClassifier\n",
    "    classifier = KNeighborsClassifier(n_neighbors = 5, metric = 'minkowski', p = 2)\n",
    "    classifier.fit(X_train_lda,Y_train)\n",
    "    accuracy,report,cm=cm_prediction(classifier,X_test_lda,Y_test)\n",
    "    return classifier,accuracy,report,cm"
   ]
  },
  {
   "cell_type": "code",
   "execution_count": 25,
   "id": "c2e7640d-ceab-4cf6-9be0-a45b44e7f658",
   "metadata": {},
   "outputs": [],
   "source": [
    "def Decision(X_train_lda,X_test_lda,Y_train,Y_test):\n",
    "    from sklearn.tree import DecisionTreeClassifier\n",
    "    classifier = DecisionTreeClassifier(criterion = 'entropy', random_state = 0)\n",
    "    classifier.fit(X_train_lda,Y_train)\n",
    "    accuracy,report,cm=cm_prediction(classifier,X_test_lda,Y_test)\n",
    "    return classifier,accuracy,report,cm"
   ]
  },
  {
   "cell_type": "code",
   "execution_count": 27,
   "id": "879e4301-9130-414c-b5a3-50533b19d2f5",
   "metadata": {},
   "outputs": [],
   "source": [
    "def random(X_train_lda,X_test_lda,Y_train,Y_test):\n",
    "    from sklearn.ensemble import RandomForestClassifier\n",
    "    classifier = RandomForestClassifier(n_estimators = 10, criterion = 'entropy', random_state = 0)\n",
    "    classifier.fit(X_train_lda,Y_train)\n",
    "    accuracy,report,cm=cm_prediction(classifier,X_test_lda,Y_test)\n",
    "    return classifier,accuracy,report,cm"
   ]
  },
  {
   "cell_type": "code",
   "execution_count": 29,
   "id": "27db5990-f190-48e4-b774-8de0f4ca4aac",
   "metadata": {},
   "outputs": [],
   "source": [
    "X_train_sc,X_test_sc,Y_train,Y_test=split_scalar(indep,dep)"
   ]
  },
  {
   "cell_type": "code",
   "execution_count": 33,
   "id": "51cad959-496a-40f5-8605-c1fc5d7fe067",
   "metadata": {},
   "outputs": [],
   "source": [
    "acclog=[]\n",
    "accsvml=[]\n",
    "accsvmnl=[]\n",
    "accknn=[]\n",
    "accnav=[]\n",
    "accdes=[]\n",
    "accrf=[]\n",
    "for n in range(1,2):\n",
    "    X_train_lda,X_test_lda=LDA_Classification(X_train_sc,X_test_sc,Y_train,n)\n",
    "    classifier,accuracy,cm,report=logistic(X_train_lda,X_test_lda,Y_train,Y_test)\n",
    "    acclog.append(accuracy)\n",
    "    classifier,accuracy,cm,report=svm_linear(X_train_lda,X_test_lda,Y_train,Y_test)\n",
    "    accsvml.append(accuracy)\n",
    "    classifier,accuracy,cm,report=svm_NL(X_train_lda,X_test_lda,Y_train,Y_test)\n",
    "    accsvmnl.append(accuracy)\n",
    "    classifier,accuracy,cm,report=knn(X_train_lda,X_test_lda,Y_train,Y_test)\n",
    "    accknn.append(accuracy)\n",
    "    classifier,accuracy,cm,report=Navie(X_train_lda,X_test_lda,Y_train,Y_test)\n",
    "    accnav.append(accuracy)\n",
    "    classifier,accuracy,cm,report=Decision(X_train_lda,X_test_lda,Y_train,Y_test)\n",
    "    accdes.append(accuracy)\n",
    "    classifier,accuracy,cm,report=random(X_train_lda,X_test_lda,Y_train,Y_test)\n",
    "    accrf.append(accuracy)"
   ]
  },
  {
   "cell_type": "code",
   "execution_count": 39,
   "id": "8673f9fa-4765-4869-9132-ce590b3b1f86",
   "metadata": {},
   "outputs": [],
   "source": [
    "def lda_classification(acclog,accsvml,accsvmnl,accknn,accnav,accdes,accrf):\n",
    "    dataframe=pd.DataFrame(index=['LD-1'],columns=['Logistic','SVMl','SVMnl','KNN','Navie','Decision','Random'])\n",
    "    for number,idex in enumerate(dataframe.index):\n",
    "        dataframe.loc[idex,'Logistic']=acclog[number]\n",
    "        dataframe.loc[idex,'SVMl']=accsvml[number]\n",
    "        dataframe.loc[idex,'SVMnl']=accsvmnl[number]\n",
    "        dataframe.loc[idex,'KNN']=accknn[number]\n",
    "        dataframe.loc[idex,'Navie']=accnav[number]\n",
    "        dataframe.loc[idex,'Decision']=accdes[number]\n",
    "        dataframe.loc[idex,'Random']=accrf[number]\n",
    "    return dataframe"
   ]
  },
  {
   "cell_type": "code",
   "execution_count": 41,
   "id": "94771bf1-320f-42d0-a1b8-e187deb02300",
   "metadata": {},
   "outputs": [
    {
     "data": {
      "text/html": [
       "<div>\n",
       "<style scoped>\n",
       "    .dataframe tbody tr th:only-of-type {\n",
       "        vertical-align: middle;\n",
       "    }\n",
       "\n",
       "    .dataframe tbody tr th {\n",
       "        vertical-align: top;\n",
       "    }\n",
       "\n",
       "    .dataframe thead th {\n",
       "        text-align: right;\n",
       "    }\n",
       "</style>\n",
       "<table border=\"1\" class=\"dataframe\">\n",
       "  <thead>\n",
       "    <tr style=\"text-align: right;\">\n",
       "      <th></th>\n",
       "      <th>Logistic</th>\n",
       "      <th>SVMl</th>\n",
       "      <th>SVMnl</th>\n",
       "      <th>KNN</th>\n",
       "      <th>Navie</th>\n",
       "      <th>Decision</th>\n",
       "      <th>Random</th>\n",
       "    </tr>\n",
       "  </thead>\n",
       "  <tbody>\n",
       "    <tr>\n",
       "      <th>LD-1</th>\n",
       "      <td>0.864865</td>\n",
       "      <td>0.864865</td>\n",
       "      <td>0.891892</td>\n",
       "      <td>0.837838</td>\n",
       "      <td>0.864865</td>\n",
       "      <td>0.810811</td>\n",
       "      <td>0.810811</td>\n",
       "    </tr>\n",
       "  </tbody>\n",
       "</table>\n",
       "</div>"
      ],
      "text/plain": [
       "      Logistic      SVMl     SVMnl       KNN     Navie  Decision    Random\n",
       "LD-1  0.864865  0.864865  0.891892  0.837838  0.864865  0.810811  0.810811"
      ]
     },
     "execution_count": 41,
     "metadata": {},
     "output_type": "execute_result"
    }
   ],
   "source": [
    "result=lda_classification(acclog,accsvml,accsvmnl,accknn,accnav,accdes,accrf)\n",
    "result"
   ]
  },
  {
   "cell_type": "code",
   "execution_count": null,
   "id": "de3f7212-4b76-4864-88f5-a46ba75b6776",
   "metadata": {},
   "outputs": [],
   "source": []
  }
 ],
 "metadata": {
  "kernelspec": {
   "display_name": "Python [conda env:base] *",
   "language": "python",
   "name": "conda-base-py"
  },
  "language_info": {
   "codemirror_mode": {
    "name": "ipython",
    "version": 3
   },
   "file_extension": ".py",
   "mimetype": "text/x-python",
   "name": "python",
   "nbconvert_exporter": "python",
   "pygments_lexer": "ipython3",
   "version": "3.12.9"
  }
 },
 "nbformat": 4,
 "nbformat_minor": 5
}
