{
 "cells": [
  {
   "cell_type": "code",
   "execution_count": 1,
   "id": "41cffefe-2e3d-403c-bd1c-64b261d87d29",
   "metadata": {},
   "outputs": [],
   "source": [
    "import pandas as pd\n",
    "from sklearn.model_selection import train_test_split \n",
    "import time\n",
    "import numpy as np\n",
    "from sklearn.preprocessing import StandardScaler\n",
    "from sklearn.linear_model import LogisticRegression\n",
    "import pickle\n",
    "import matplotlib.pyplot as plt\n",
    "from sklearn.neighbors import KNeighborsClassifier   \n",
    "from sklearn.svm import SVC\n",
    "from sklearn.ensemble import RandomForestClassifier\n",
    "from sklearn.naive_bayes import GaussianNB\n",
    "from sklearn.tree import DecisionTreeClassifier"
   ]
  },
  {
   "cell_type": "code",
   "execution_count": 3,
   "id": "d32959e6-a464-4221-b673-f44e45fae6b8",
   "metadata": {},
   "outputs": [],
   "source": [
    "def featureImportance(indep_X,dep_Y,n):\n",
    "    importances_list=[]\n",
    "    log_model = LogisticRegression(solver='lbfgs',max_iter=2000)\n",
    "    RF = RandomForestClassifier(n_estimators = 10, criterion = 'entropy', random_state = 0)\n",
    "    #NB = GaussianNB()\n",
    "    DT= DecisionTreeClassifier(criterion = 'gini', max_features='sqrt',splitter='best',random_state = 0)\n",
    "    svc_model = SVC(kernel = 'linear', random_state = 0)\n",
    "    #knn = KNeighborsClassifier(n_neighbors = 5, metric = 'minkowski', p = 2)\n",
    "    feature_imp=[log_model,svc_model,RF,DT]\n",
    "    for model in feature_imp:\n",
    "        print(model)\n",
    "        model.fit(indep_X,dep_Y)\n",
    "        if hasattr(model, \"coef_\"):\n",
    "            importances = model.coef_[0]\n",
    "        elif hasattr(model, 'feature_importances_'):\n",
    "            importances = model.feature_importances_\n",
    "        else:\n",
    "            continue\n",
    "        # Get top n feature indices\n",
    "        top_n_indices = np.argsort(importances)[-n:]\n",
    "        # Extract top n columns from indep_X\n",
    "        selected_features = indep_X.iloc[:, top_n_indices]\n",
    "        importances_list.append(selected_features)\n",
    "    return importances_list"
   ]
  },
  {
   "cell_type": "code",
   "execution_count": 5,
   "id": "94d5f178-c9c8-4cf1-8736-2f495bd1f300",
   "metadata": {},
   "outputs": [],
   "source": [
    "def split_scalar(indep_X,dep_Y):\n",
    "        X_train, X_test, y_train, y_test = train_test_split(indep_X, dep_Y, test_size = 0.25, random_state = 0)\n",
    "        sc = StandardScaler()\n",
    "        X_train = sc.fit_transform(X_train)\n",
    "        X_test = sc.transform(X_test)\n",
    "        return X_train, X_test, y_train, y_test"
   ]
  },
  {
   "cell_type": "code",
   "execution_count": 7,
   "id": "1d192333-3a9c-4fee-a9a1-0f252ab4cef6",
   "metadata": {},
   "outputs": [],
   "source": [
    "def cm_prediction(classifier,X_test):\n",
    "    y_pred = classifier.predict(X_test)\n",
    "    from sklearn.metrics import confusion_matrix\n",
    "    cm = confusion_matrix(y_test, y_pred)\n",
    "    from sklearn.metrics import accuracy_score \n",
    "    from sklearn.metrics import classification_report \n",
    "    Accuracy=accuracy_score(y_test, y_pred )\n",
    "    report=classification_report(y_test, y_pred)\n",
    "    return  classifier,Accuracy,report,X_test,y_test,cm"
   ]
  },
  {
   "cell_type": "code",
   "execution_count": 9,
   "id": "0dde0cba-f309-4a18-b1e0-f81a965c8677",
   "metadata": {},
   "outputs": [],
   "source": [
    "def logistic(X_train,y_train,X_test):      \n",
    "    from sklearn.linear_model import LogisticRegression\n",
    "    classifier = LogisticRegression(random_state = 0)\n",
    "    classifier.fit(X_train, y_train)\n",
    "    classifier,Accuracy,report,X_test,y_test,cm=cm_prediction(classifier,X_test)\n",
    "    return  classifier,Accuracy,report,X_test,y_test,cm"
   ]
  },
  {
   "cell_type": "code",
   "execution_count": 11,
   "id": "99949eaf-9185-4266-b624-7553ade284ac",
   "metadata": {},
   "outputs": [],
   "source": [
    "def svm_linear(X_train,y_train,X_test):\n",
    "    from sklearn.svm import SVC\n",
    "    classifier = SVC(kernel = 'linear', random_state = 0)\n",
    "    classifier.fit(X_train, y_train)\n",
    "    classifier,Accuracy,report,X_test,y_test,cm=cm_prediction(classifier,X_test)\n",
    "    return  classifier,Accuracy,report,X_test,y_test,cm"
   ]
  },
  {
   "cell_type": "code",
   "execution_count": 13,
   "id": "7854c6b1-2c8e-49be-8246-c6d1616412f4",
   "metadata": {},
   "outputs": [],
   "source": [
    "def svm_NL(X_train,y_train,X_test):\n",
    "    from sklearn.svm import SVC\n",
    "    classifier = SVC(kernel = 'rbf', random_state = 0)\n",
    "    classifier.fit(X_train, y_train)\n",
    "    classifier,Accuracy,report,X_test,y_test,cm=cm_prediction(classifier,X_test)\n",
    "    return  classifier,Accuracy,report,X_test,y_test,cm"
   ]
  },
  {
   "cell_type": "code",
   "execution_count": 15,
   "id": "30339f97-081b-43e6-8ce3-6bce8e3e4d4e",
   "metadata": {},
   "outputs": [],
   "source": [
    "def Navie(X_train,y_train,X_test):       \n",
    "    from sklearn.naive_bayes import GaussianNB\n",
    "    classifier = GaussianNB()\n",
    "    classifier.fit(X_train, y_train)\n",
    "    classifier,Accuracy,report,X_test,y_test,cm=cm_prediction(classifier,X_test)\n",
    "    return  classifier,Accuracy,report,X_test,y_test,cm "
   ]
  },
  {
   "cell_type": "code",
   "execution_count": 17,
   "id": "87db0970-0129-4e6d-8ec6-616af986e708",
   "metadata": {},
   "outputs": [],
   "source": [
    "def knn(X_train,y_train,X_test):\n",
    "    from sklearn.neighbors import KNeighborsClassifier\n",
    "    classifier = KNeighborsClassifier(n_neighbors = 5, metric = 'minkowski', p = 2)\n",
    "    classifier.fit(X_train, y_train)\n",
    "    classifier,Accuracy,report,X_test,y_test,cm=cm_prediction(classifier,X_test)\n",
    "    return  classifier,Accuracy,report,X_test,y_test,cm "
   ]
  },
  {
   "cell_type": "code",
   "execution_count": 19,
   "id": "20643aa9-9ba4-4e9b-92fd-46e82d400b6c",
   "metadata": {},
   "outputs": [],
   "source": [
    "def Decision(X_train,y_train,X_test):\n",
    "    from sklearn.tree import DecisionTreeClassifier\n",
    "    classifier = DecisionTreeClassifier(criterion = 'entropy', random_state = 0)\n",
    "    classifier.fit(X_train, y_train)\n",
    "    classifier,Accuracy,report,X_test,y_test,cm=cm_prediction(classifier,X_test)\n",
    "    return  classifier,Accuracy,report,X_test,y_test,cm      \n"
   ]
  },
  {
   "cell_type": "code",
   "execution_count": 21,
   "id": "cd72558d-5727-4522-a31e-3bf28d173012",
   "metadata": {},
   "outputs": [],
   "source": [
    "def random(X_train,y_train,X_test):\n",
    "    from sklearn.ensemble import RandomForestClassifier\n",
    "    classifier = RandomForestClassifier(n_estimators = 10, criterion = 'entropy', random_state = 0)\n",
    "    classifier.fit(X_train, y_train)\n",
    "    classifier,Accuracy,report,X_test,y_test,cm=cm_prediction(classifier,X_test)\n",
    "    return  classifier,Accuracy,report,X_test,y_test,cm"
   ]
  },
  {
   "cell_type": "code",
   "execution_count": 25,
   "id": "9f7bce08-a3c3-4830-bef8-ce9ea0372d1b",
   "metadata": {},
   "outputs": [],
   "source": [
    "def feature_classification(acclog,accsvml,accsvmnl,accknn,accnav,accdes,accrf): \n",
    "    feature_dataframe=pd.DataFrame(index=['Logistic','SVC','Random','DecisionTree'],columns=['Logistic','SVMl','SVMnl','KNN','Navie','Decision','Random'])\n",
    "    for number,idex in enumerate(feature_dataframe.index):\n",
    "        feature_dataframe.loc[idex,'Logistic']=acclog[number]\n",
    "        feature_dataframe.loc[idex,'SVMl']=accsvml[number]\n",
    "        feature_dataframe.loc[idex,'SVMnl']=accsvmnl[number]\n",
    "        feature_dataframe.loc[idex,'KNN']=accknn[number]\n",
    "        feature_dataframe.loc[idex,'Navie']=accnav[number]\n",
    "        feature_dataframe.loc[idex,'Decision']=accdes[number]\n",
    "        feature_dataframe.loc[idex,'Random']=accrf[number]\n",
    "    return feature_dataframe"
   ]
  },
  {
   "cell_type": "code",
   "execution_count": 27,
   "id": "fdd887b0-ce93-4e02-9fbc-fe84ac09dfcc",
   "metadata": {},
   "outputs": [],
   "source": [
    "df=pd.read_csv(\"heart_clean_final.csv\")\n",
    "df2=df"
   ]
  },
  {
   "cell_type": "code",
   "execution_count": 29,
   "id": "f27d9cd7-fae7-4bfc-817e-faec909423d9",
   "metadata": {},
   "outputs": [],
   "source": [
    "indep_X=df2.drop('target',axis=1)\n",
    "dep_Y=df2['target']"
   ]
  },
  {
   "cell_type": "code",
   "execution_count": 31,
   "id": "9f8fc070-276b-4f21-ac34-bf55fc543b48",
   "metadata": {},
   "outputs": [],
   "source": [
    "X_train,X_test,y_train,y_test=split_scalar(indep_X,dep_Y)"
   ]
  },
  {
   "cell_type": "code",
   "execution_count": 35,
   "id": "d324ea94-d23f-40ea-95cb-5b4ea21cdb68",
   "metadata": {},
   "outputs": [
    {
     "name": "stdout",
     "output_type": "stream",
     "text": [
      "LogisticRegression(max_iter=2000)\n",
      "SVC(kernel='linear', random_state=0)\n",
      "RandomForestClassifier(criterion='entropy', n_estimators=10, random_state=0)\n",
      "DecisionTreeClassifier(max_features='sqrt', random_state=0)\n"
     ]
    },
    {
     "data": {
      "text/html": [
       "<div>\n",
       "<style scoped>\n",
       "    .dataframe tbody tr th:only-of-type {\n",
       "        vertical-align: middle;\n",
       "    }\n",
       "\n",
       "    .dataframe tbody tr th {\n",
       "        vertical-align: top;\n",
       "    }\n",
       "\n",
       "    .dataframe thead th {\n",
       "        text-align: right;\n",
       "    }\n",
       "</style>\n",
       "<table border=\"1\" class=\"dataframe\">\n",
       "  <thead>\n",
       "    <tr style=\"text-align: right;\">\n",
       "      <th></th>\n",
       "      <th>Logistic</th>\n",
       "      <th>SVMl</th>\n",
       "      <th>SVMnl</th>\n",
       "      <th>KNN</th>\n",
       "      <th>Navie</th>\n",
       "      <th>Decision</th>\n",
       "      <th>Random</th>\n",
       "    </tr>\n",
       "  </thead>\n",
       "  <tbody>\n",
       "    <tr>\n",
       "      <th>Logistic</th>\n",
       "      <td>0.804348</td>\n",
       "      <td>0.826087</td>\n",
       "      <td>0.826087</td>\n",
       "      <td>0.891304</td>\n",
       "      <td>0.826087</td>\n",
       "      <td>0.73913</td>\n",
       "      <td>0.717391</td>\n",
       "    </tr>\n",
       "    <tr>\n",
       "      <th>SVC</th>\n",
       "      <td>0.804348</td>\n",
       "      <td>0.826087</td>\n",
       "      <td>0.826087</td>\n",
       "      <td>0.891304</td>\n",
       "      <td>0.826087</td>\n",
       "      <td>0.73913</td>\n",
       "      <td>0.695652</td>\n",
       "    </tr>\n",
       "    <tr>\n",
       "      <th>Random</th>\n",
       "      <td>0.826087</td>\n",
       "      <td>0.826087</td>\n",
       "      <td>0.847826</td>\n",
       "      <td>0.847826</td>\n",
       "      <td>0.804348</td>\n",
       "      <td>0.782609</td>\n",
       "      <td>0.782609</td>\n",
       "    </tr>\n",
       "    <tr>\n",
       "      <th>DecisionTree</th>\n",
       "      <td>0.891304</td>\n",
       "      <td>0.934783</td>\n",
       "      <td>0.847826</td>\n",
       "      <td>0.891304</td>\n",
       "      <td>0.869565</td>\n",
       "      <td>0.673913</td>\n",
       "      <td>0.869565</td>\n",
       "    </tr>\n",
       "  </tbody>\n",
       "</table>\n",
       "</div>"
      ],
      "text/plain": [
       "              Logistic      SVMl     SVMnl       KNN     Navie  Decision  \\\n",
       "Logistic      0.804348  0.826087  0.826087  0.891304  0.826087   0.73913   \n",
       "SVC           0.804348  0.826087  0.826087  0.891304  0.826087   0.73913   \n",
       "Random        0.826087  0.826087  0.847826  0.847826  0.804348  0.782609   \n",
       "DecisionTree  0.891304  0.934783  0.847826  0.891304  0.869565  0.673913   \n",
       "\n",
       "                Random  \n",
       "Logistic      0.717391  \n",
       "SVC           0.695652  \n",
       "Random        0.782609  \n",
       "DecisionTree  0.869565  "
      ]
     },
     "execution_count": 35,
     "metadata": {},
     "output_type": "execute_result"
    }
   ],
   "source": [
    "importances_list=featureImportance(indep_X,dep_Y,5)       \n",
    "acclog=[]\n",
    "accsvml=[]\n",
    "accsvmnl=[]\n",
    "accknn=[]\n",
    "accnav=[]\n",
    "accdes=[]\n",
    "accrf=[]\n",
    "for i in importances_list:   \n",
    "    X_train, X_test, y_train, y_test=split_scalar(i,dep_Y)   \n",
    "    classifier,Accuracy,report,X_test,y_test,cm=logistic(X_train,y_train,X_test)\n",
    "    acclog.append(Accuracy)\n",
    "    \n",
    "    classifier,Accuracy,report,X_test,y_test,cm=svm_linear(X_train,y_train,X_test)  \n",
    "    accsvml.append(Accuracy)\n",
    "    \n",
    "    classifier,Accuracy,report,X_test,y_test,cm=svm_NL(X_train,y_train,X_test)  \n",
    "    accsvmnl.append(Accuracy)\n",
    "    \n",
    "    classifier,Accuracy,report,X_test,y_test,cm=knn(X_train,y_train,X_test)  \n",
    "    accknn.append(Accuracy)\n",
    "    \n",
    "    classifier,Accuracy,report,X_test,y_test,cm=Navie(X_train,y_train,X_test)  \n",
    "    accnav.append(Accuracy)\n",
    "    \n",
    "    classifier,Accuracy,report,X_test,y_test,cm=Decision(X_train,y_train,X_test)  \n",
    "    accdes.append(Accuracy)\n",
    "    \n",
    "    classifier,Accuracy,report,X_test,y_test,cm=random(X_train,y_train,X_test)  \n",
    "    accrf.append(Accuracy)\n",
    "    \n",
    "result=feature_classification(acclog,accsvml,accsvmnl,accknn,accnav,accdes,accrf)\n",
    "\n",
    "result\n"
   ]
  },
  {
   "cell_type": "code",
   "execution_count": null,
   "id": "0e0f4776-4b6b-4523-8e4f-c922bbd21ab6",
   "metadata": {},
   "outputs": [],
   "source": []
  }
 ],
 "metadata": {
  "kernelspec": {
   "display_name": "Python [conda env:base] *",
   "language": "python",
   "name": "conda-base-py"
  },
  "language_info": {
   "codemirror_mode": {
    "name": "ipython",
    "version": 3
   },
   "file_extension": ".py",
   "mimetype": "text/x-python",
   "name": "python",
   "nbconvert_exporter": "python",
   "pygments_lexer": "ipython3",
   "version": "3.12.9"
  }
 },
 "nbformat": 4,
 "nbformat_minor": 5
}
