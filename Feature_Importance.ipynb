{
 "cells": [
  {
   "cell_type": "code",
   "execution_count": 1,
   "id": "41cffefe-2e3d-403c-bd1c-64b261d87d29",
   "metadata": {},
   "outputs": [],
   "source": [
    "import pandas as pd\n",
    "from sklearn.model_selection import train_test_split \n",
    "import time\n",
    "import numpy as np\n",
    "from sklearn.preprocessing import StandardScaler\n",
    "from sklearn.linear_model import LogisticRegression\n",
    "import pickle\n",
    "import matplotlib.pyplot as plt\n",
    "from sklearn.neighbors import KNeighborsClassifier   \n",
    "from sklearn.svm import SVC\n",
    "from sklearn.ensemble import RandomForestClassifier\n",
    "from sklearn.naive_bayes import GaussianNB\n",
    "from sklearn.tree import DecisionTreeClassifier"
   ]
  },
  {
   "cell_type": "code",
   "execution_count": 2,
   "id": "a108c16b-5fdc-41a9-84b8-89081f8a0009",
   "metadata": {},
   "outputs": [],
   "source": [
    "import warnings\n",
    "warnings.filterwarnings('ignore')"
   ]
  },
  {
   "cell_type": "code",
   "execution_count": 3,
   "id": "1e7dd087-86ac-4a82-85a1-d4b3cdd67807",
   "metadata": {},
   "outputs": [],
   "source": [
    "df=pd.read_csv(\"heart_clean_final.csv\")\n",
    "df2=df"
   ]
  },
  {
   "cell_type": "code",
   "execution_count": 4,
   "id": "b581c890-c4b8-463f-ad76-5a0f6905ceeb",
   "metadata": {},
   "outputs": [],
   "source": [
    "indep_X=df2.drop('target',axis=1)\n",
    "dep_Y=df2['target']"
   ]
  },
  {
   "cell_type": "code",
   "execution_count": 9,
   "id": "d32959e6-a464-4221-b673-f44e45fae6b8",
   "metadata": {},
   "outputs": [],
   "source": [
    "def featureImportance(indep_X,dep_Y,n):\n",
    "    importances_list=[]\n",
    "    log_model = LogisticRegression(solver='lbfgs',max_iter=2000)\n",
    "    RF = RandomForestClassifier(n_estimators = 10, criterion = 'entropy', random_state = 0)\n",
    "    #NB = GaussianNB()\n",
    "    DT= DecisionTreeClassifier(criterion = 'gini', max_features='sqrt',splitter='best',random_state = 0)\n",
    "    svc_model = SVC(kernel = 'linear', random_state = 0)\n",
    "    #knn = KNeighborsClassifier(n_neighbors = 5, metric = 'minkowski', p = 2)\n",
    "    feature_imp=[log_model,svc_model,RF,DT]\n",
    "    for model in feature_imp:\n",
    "        print(model)\n",
    "        model.fit(indep_X,dep_Y)\n",
    "        if hasattr(model, \"coef_\"):\n",
    "            importances = model.coef_[0]\n",
    "        elif hasattr(model, 'feature_importances_'):\n",
    "            importances = model.feature_importances_\n",
    "        else:\n",
    "            continue\n",
    "        # Get top n feature indices\n",
    "        top_n_indices = np.argsort(importances)[-n:]\n",
    "        # Extract top n columns from indep_X\n",
    "        selected_features = indep_X.iloc[:, top_n_indices]\n",
    "        importances_list.append(selected_features)\n",
    "    return importances_list"
   ]
  },
  {
   "cell_type": "code",
   "execution_count": 11,
   "id": "94d5f178-c9c8-4cf1-8736-2f495bd1f300",
   "metadata": {},
   "outputs": [],
   "source": [
    "def split_scalar(indep_X,dep_Y):\n",
    "        X_train, X_test, y_train, y_test = train_test_split(indep_X, dep_Y, test_size = 0.25, random_state = 0)\n",
    "        sc = StandardScaler()\n",
    "        X_train = sc.fit_transform(X_train)\n",
    "        X_test = sc.transform(X_test)\n",
    "        return X_train, X_test, y_train, y_test"
   ]
  },
  {
   "cell_type": "code",
   "execution_count": 13,
   "id": "1d192333-3a9c-4fee-a9a1-0f252ab4cef6",
   "metadata": {},
   "outputs": [],
   "source": [
    "def cm_prediction(classifier,X_test,y_test):\n",
    "    y_pred = classifier.predict(X_test)\n",
    "    from sklearn.metrics import confusion_matrix\n",
    "    cm = confusion_matrix(y_test, y_pred)\n",
    "    from sklearn.metrics import accuracy_score \n",
    "    from sklearn.metrics import classification_report \n",
    "    Accuracy=accuracy_score(y_test, y_pred )\n",
    "    report=classification_report(y_test, y_pred)\n",
    "    from sklearn.metrics import f1_score\n",
    "    f1=f1_score(y_test,y_pred,average='binary')\n",
    "    return Accuracy,report,cm,f1"
   ]
  },
  {
   "cell_type": "code",
   "execution_count": 15,
   "id": "0dde0cba-f309-4a18-b1e0-f81a965c8677",
   "metadata": {},
   "outputs": [],
   "source": [
    "def logistic(X_train,y_train,X_test,y_test):      \n",
    "    from sklearn.linear_model import LogisticRegression\n",
    "    classifier = LogisticRegression(random_state = 0)\n",
    "    classifier.fit(X_train, y_train)\n",
    "    Accuracy,report,cm,f1=cm_prediction(classifier,X_test,y_test)\n",
    "    return  classifier,Accuracy,report,cm,f1"
   ]
  },
  {
   "cell_type": "code",
   "execution_count": 17,
   "id": "99949eaf-9185-4266-b624-7553ade284ac",
   "metadata": {},
   "outputs": [],
   "source": [
    "def svm_linear(X_train,y_train,X_test,y_test):\n",
    "    from sklearn.svm import SVC\n",
    "    classifier = SVC(kernel = 'linear', random_state = 0)\n",
    "    classifier.fit(X_train, y_train)\n",
    "    Accuracy,report,cm,f1=cm_prediction(classifier,X_test,y_test)\n",
    "    return  classifier,Accuracy,report,cm,f1"
   ]
  },
  {
   "cell_type": "code",
   "execution_count": 19,
   "id": "7854c6b1-2c8e-49be-8246-c6d1616412f4",
   "metadata": {},
   "outputs": [],
   "source": [
    "def svm_NL(X_train,y_train,X_test,y_test):\n",
    "    from sklearn.svm import SVC\n",
    "    classifier = SVC(kernel = 'rbf', random_state = 0)\n",
    "    classifier.fit(X_train, y_train)\n",
    "    Accuracy,report,cm,f1=cm_prediction(classifier,X_test,y_test)\n",
    "    return  classifier,Accuracy,report,cm,f1"
   ]
  },
  {
   "cell_type": "code",
   "execution_count": 21,
   "id": "30339f97-081b-43e6-8ce3-6bce8e3e4d4e",
   "metadata": {},
   "outputs": [],
   "source": [
    "def Naive(X_train,y_train,X_test,y_test):       \n",
    "    from sklearn.naive_bayes import GaussianNB\n",
    "    classifier = GaussianNB()\n",
    "    classifier.fit(X_train, y_train)\n",
    "    Accuracy,report,cm,f1=cm_prediction(classifier,X_test,y_test)\n",
    "    return  classifier,Accuracy,report,cm,f1 "
   ]
  },
  {
   "cell_type": "code",
   "execution_count": 23,
   "id": "87db0970-0129-4e6d-8ec6-616af986e708",
   "metadata": {},
   "outputs": [],
   "source": [
    "def knn(X_train,y_train,X_test,y_test):\n",
    "    from sklearn.neighbors import KNeighborsClassifier\n",
    "    classifier = KNeighborsClassifier(n_neighbors = 5, metric = 'minkowski', p = 2)\n",
    "    classifier.fit(X_train, y_train)\n",
    "    Accuracy,report,cm,f1=cm_prediction(classifier,X_test,y_test)\n",
    "    return  classifier,Accuracy,report,cm,f1 "
   ]
  },
  {
   "cell_type": "code",
   "execution_count": 25,
   "id": "20643aa9-9ba4-4e9b-92fd-46e82d400b6c",
   "metadata": {},
   "outputs": [],
   "source": [
    "def Decision(X_train,y_train,X_test,y_test):\n",
    "    from sklearn.tree import DecisionTreeClassifier\n",
    "    classifier = DecisionTreeClassifier(criterion = 'entropy', random_state = 0)\n",
    "    classifier.fit(X_train, y_train)\n",
    "    Accuracy,report,cm,f1=cm_prediction(classifier,X_test,y_test)\n",
    "    return  classifier,Accuracy,report,cm,f1      \n"
   ]
  },
  {
   "cell_type": "code",
   "execution_count": 27,
   "id": "cd72558d-5727-4522-a31e-3bf28d173012",
   "metadata": {},
   "outputs": [],
   "source": [
    "def random(X_train,y_train,X_test,y_test):\n",
    "    from sklearn.ensemble import RandomForestClassifier\n",
    "    classifier = RandomForestClassifier(n_estimators = 10, criterion = 'entropy', random_state = 0)\n",
    "    classifier.fit(X_train, y_train)\n",
    "    Accuracy,report,cm,f1=cm_prediction(classifier,X_test,y_test)\n",
    "    return  classifier,Accuracy,report,cm,f1"
   ]
  },
  {
   "cell_type": "code",
   "execution_count": 29,
   "id": "24ca59dc-df03-483d-a4b2-301d63566fb3",
   "metadata": {},
   "outputs": [],
   "source": [
    "def Xgboost(X_train,y_train,X_test,y_test):\n",
    "    from xgboost import XGBClassifier\n",
    "    classifier =XGBClassifier()\n",
    "    classifier.fit(X_train, y_train)\n",
    "    Accuracy,report,cm,f1=cm_prediction(classifier,X_test,y_test)\n",
    "    return classifier,Accuracy,report,cm,f1 \n",
    "    "
   ]
  },
  {
   "cell_type": "code",
   "execution_count": 31,
   "id": "8e245bde-17a1-4581-8695-63ae3618323c",
   "metadata": {},
   "outputs": [],
   "source": [
    "def AdaBoost(X_train,y_train,X_test,y_test):\n",
    "    from sklearn.ensemble import AdaBoostClassifier\n",
    "    classifier=AdaBoostClassifier()\n",
    "    classifier.fit(X_train,y_train)\n",
    "    Accuracy,report,cm,f1=cm_prediction(classifier,X_test,y_test)\n",
    "    return classifier,Accuracy,report,cm,f1  "
   ]
  },
  {
   "cell_type": "code",
   "execution_count": 33,
   "id": "4592a999-97e1-49e2-b3c5-dd8406404aff",
   "metadata": {},
   "outputs": [],
   "source": [
    "def LightGBM(X_train,y_train,X_test,y_test):\n",
    "    from lightgbm import LGBMClassifier\n",
    "    classifier=LGBMClassifier(verbose=-1)\n",
    "    classifier.fit(X_train,y_train)\n",
    "    Accuracy,report,cm,f1=cm_prediction(classifier,X_test,y_test)\n",
    "    return classifier,Accuracy,report,cm,f1"
   ]
  },
  {
   "cell_type": "code",
   "execution_count": 35,
   "id": "9f7bce08-a3c3-4830-bef8-ce9ea0372d1b",
   "metadata": {},
   "outputs": [],
   "source": [
    "def feature_classification(acclog,accsvml,accsvmnl,accknn,accnav,accdes,accrf,accxg,accada,acclgbm): \n",
    "    feature_dataframe=pd.DataFrame(index=['Logistic','SVC','Random','DecisionTree'],columns=['Logistic','SVMl','SVMnl','KNN','Naive','Decision','Random','XgBoost','AdaBoost','LightGBM'])\n",
    "    for number,idex in enumerate(feature_dataframe.index):\n",
    "        feature_dataframe.loc[idex,'Logistic']=acclog[number]\n",
    "        feature_dataframe.loc[idex,'SVMl']=accsvml[number]\n",
    "        feature_dataframe.loc[idex,'SVMnl']=accsvmnl[number]\n",
    "        feature_dataframe.loc[idex,'KNN']=accknn[number]\n",
    "        feature_dataframe.loc[idex,'Naive']=accnav[number]\n",
    "        feature_dataframe.loc[idex,'Decision']=accdes[number]\n",
    "        feature_dataframe.loc[idex,'Random']=accrf[number]\n",
    "        feature_dataframe.loc[idex,'XgBoost']=accxg[number]\n",
    "        feature_dataframe.loc[idex,'AdaBoost']=accada[number]\n",
    "        feature_dataframe.loc[idex,'LightGBM']=acclgbm[number]\n",
    "    return feature_dataframe"
   ]
  },
  {
   "cell_type": "code",
   "execution_count": 37,
   "id": "9f8fc070-276b-4f21-ac34-bf55fc543b48",
   "metadata": {},
   "outputs": [],
   "source": [
    "X_train,X_test,y_train,y_test=split_scalar(indep_X,dep_Y)"
   ]
  },
  {
   "cell_type": "code",
   "execution_count": 39,
   "id": "d324ea94-d23f-40ea-95cb-5b4ea21cdb68",
   "metadata": {},
   "outputs": [
    {
     "name": "stdout",
     "output_type": "stream",
     "text": [
      "LogisticRegression(max_iter=2000)\n",
      "SVC(kernel='linear', random_state=0)\n",
      "RandomForestClassifier(criterion='entropy', n_estimators=10, random_state=0)\n",
      "DecisionTreeClassifier(max_features='sqrt', random_state=0)\n"
     ]
    }
   ],
   "source": [
    "importances_list=featureImportance(indep_X,dep_Y,5)       \n",
    "acclog=[]\n",
    "accsvml=[]\n",
    "accsvmnl=[]\n",
    "accknn=[]\n",
    "accnav=[]\n",
    "accdes=[]\n",
    "accrf=[]\n",
    "accxg=[]\n",
    "accada=[]\n",
    "acclgbm=[]\n",
    "for i in importances_list:   \n",
    "    X_train, X_test, y_train, y_test=split_scalar(i,dep_Y)   \n",
    "    classifier,Accuracy,report,cm,f1=logistic(X_train,y_train,X_test,y_test)\n",
    "    acclog.append(Accuracy)\n",
    "    \n",
    "    classifier,Accuracy,report,cm,f1=svm_linear(X_train,y_train,X_test,y_test)  \n",
    "    accsvml.append(Accuracy)\n",
    "    \n",
    "    classifier,Accuracy,report,cm,f1=svm_NL(X_train,y_train,X_test,y_test)  \n",
    "    accsvmnl.append(Accuracy)\n",
    "    \n",
    "    classifier,Accuracy,report,cm,f1=knn(X_train,y_train,X_test,y_test)  \n",
    "    accknn.append(Accuracy)\n",
    "    \n",
    "    classifier,Accuracy,report,cm,f1=Naive(X_train,y_train,X_test,y_test)  \n",
    "    accnav.append(Accuracy)\n",
    "    \n",
    "    classifier,Accuracy,report,cm,f1=Decision(X_train,y_train,X_test,y_test)  \n",
    "    accdes.append(Accuracy)\n",
    "    \n",
    "    classifier,Accuracy,report,cm,f1=random(X_train,y_train,X_test,y_test)  \n",
    "    accrf.append(Accuracy)\n",
    "    \n",
    "    classifier,Accuracy,report,cm,f1=Xgboost(X_train,y_train,X_test,y_test)  \n",
    "    accxg.append(Accuracy)\n",
    "\n",
    "    classifier,Accuracy,report,cm,f1=AdaBoost(X_train,y_train,X_test,y_test)  \n",
    "    accada.append(Accuracy)\n",
    "\n",
    "    classifier,Accuracy,report,cm,f1=LightGBM(X_train,y_train,X_test,y_test)  \n",
    "    acclgbm.append(Accuracy)   "
   ]
  },
  {
   "cell_type": "code",
   "execution_count": 41,
   "id": "0e0f4776-4b6b-4523-8e4f-c922bbd21ab6",
   "metadata": {},
   "outputs": [
    {
     "data": {
      "text/html": [
       "<style type=\"text/css\">\n",
       "#T_644fd_row0_col3, #T_644fd_row1_col3, #T_644fd_row2_col2, #T_644fd_row2_col3, #T_644fd_row3_col1 {\n",
       "  background-color: lightgreen;\n",
       "}\n",
       "</style>\n",
       "<table id=\"T_644fd\">\n",
       "  <thead>\n",
       "    <tr>\n",
       "      <th class=\"blank level0\" >&nbsp;</th>\n",
       "      <th id=\"T_644fd_level0_col0\" class=\"col_heading level0 col0\" >Logistic</th>\n",
       "      <th id=\"T_644fd_level0_col1\" class=\"col_heading level0 col1\" >SVMl</th>\n",
       "      <th id=\"T_644fd_level0_col2\" class=\"col_heading level0 col2\" >SVMnl</th>\n",
       "      <th id=\"T_644fd_level0_col3\" class=\"col_heading level0 col3\" >KNN</th>\n",
       "      <th id=\"T_644fd_level0_col4\" class=\"col_heading level0 col4\" >Naive</th>\n",
       "      <th id=\"T_644fd_level0_col5\" class=\"col_heading level0 col5\" >Decision</th>\n",
       "      <th id=\"T_644fd_level0_col6\" class=\"col_heading level0 col6\" >Random</th>\n",
       "      <th id=\"T_644fd_level0_col7\" class=\"col_heading level0 col7\" >XgBoost</th>\n",
       "      <th id=\"T_644fd_level0_col8\" class=\"col_heading level0 col8\" >AdaBoost</th>\n",
       "      <th id=\"T_644fd_level0_col9\" class=\"col_heading level0 col9\" >LightGBM</th>\n",
       "    </tr>\n",
       "  </thead>\n",
       "  <tbody>\n",
       "    <tr>\n",
       "      <th id=\"T_644fd_level0_row0\" class=\"row_heading level0 row0\" >Logistic</th>\n",
       "      <td id=\"T_644fd_row0_col0\" class=\"data row0 col0\" >0.804348</td>\n",
       "      <td id=\"T_644fd_row0_col1\" class=\"data row0 col1\" >0.826087</td>\n",
       "      <td id=\"T_644fd_row0_col2\" class=\"data row0 col2\" >0.826087</td>\n",
       "      <td id=\"T_644fd_row0_col3\" class=\"data row0 col3\" >0.891304</td>\n",
       "      <td id=\"T_644fd_row0_col4\" class=\"data row0 col4\" >0.826087</td>\n",
       "      <td id=\"T_644fd_row0_col5\" class=\"data row0 col5\" >0.739130</td>\n",
       "      <td id=\"T_644fd_row0_col6\" class=\"data row0 col6\" >0.717391</td>\n",
       "      <td id=\"T_644fd_row0_col7\" class=\"data row0 col7\" >0.760870</td>\n",
       "      <td id=\"T_644fd_row0_col8\" class=\"data row0 col8\" >0.760870</td>\n",
       "      <td id=\"T_644fd_row0_col9\" class=\"data row0 col9\" >0.847826</td>\n",
       "    </tr>\n",
       "    <tr>\n",
       "      <th id=\"T_644fd_level0_row1\" class=\"row_heading level0 row1\" >SVC</th>\n",
       "      <td id=\"T_644fd_row1_col0\" class=\"data row1 col0\" >0.804348</td>\n",
       "      <td id=\"T_644fd_row1_col1\" class=\"data row1 col1\" >0.826087</td>\n",
       "      <td id=\"T_644fd_row1_col2\" class=\"data row1 col2\" >0.826087</td>\n",
       "      <td id=\"T_644fd_row1_col3\" class=\"data row1 col3\" >0.891304</td>\n",
       "      <td id=\"T_644fd_row1_col4\" class=\"data row1 col4\" >0.826087</td>\n",
       "      <td id=\"T_644fd_row1_col5\" class=\"data row1 col5\" >0.739130</td>\n",
       "      <td id=\"T_644fd_row1_col6\" class=\"data row1 col6\" >0.695652</td>\n",
       "      <td id=\"T_644fd_row1_col7\" class=\"data row1 col7\" >0.760870</td>\n",
       "      <td id=\"T_644fd_row1_col8\" class=\"data row1 col8\" >0.760870</td>\n",
       "      <td id=\"T_644fd_row1_col9\" class=\"data row1 col9\" >0.847826</td>\n",
       "    </tr>\n",
       "    <tr>\n",
       "      <th id=\"T_644fd_level0_row2\" class=\"row_heading level0 row2\" >Random</th>\n",
       "      <td id=\"T_644fd_row2_col0\" class=\"data row2 col0\" >0.826087</td>\n",
       "      <td id=\"T_644fd_row2_col1\" class=\"data row2 col1\" >0.826087</td>\n",
       "      <td id=\"T_644fd_row2_col2\" class=\"data row2 col2\" >0.847826</td>\n",
       "      <td id=\"T_644fd_row2_col3\" class=\"data row2 col3\" >0.847826</td>\n",
       "      <td id=\"T_644fd_row2_col4\" class=\"data row2 col4\" >0.804348</td>\n",
       "      <td id=\"T_644fd_row2_col5\" class=\"data row2 col5\" >0.782609</td>\n",
       "      <td id=\"T_644fd_row2_col6\" class=\"data row2 col6\" >0.782609</td>\n",
       "      <td id=\"T_644fd_row2_col7\" class=\"data row2 col7\" >0.739130</td>\n",
       "      <td id=\"T_644fd_row2_col8\" class=\"data row2 col8\" >0.739130</td>\n",
       "      <td id=\"T_644fd_row2_col9\" class=\"data row2 col9\" >0.739130</td>\n",
       "    </tr>\n",
       "    <tr>\n",
       "      <th id=\"T_644fd_level0_row3\" class=\"row_heading level0 row3\" >DecisionTree</th>\n",
       "      <td id=\"T_644fd_row3_col0\" class=\"data row3 col0\" >0.891304</td>\n",
       "      <td id=\"T_644fd_row3_col1\" class=\"data row3 col1\" >0.934783</td>\n",
       "      <td id=\"T_644fd_row3_col2\" class=\"data row3 col2\" >0.847826</td>\n",
       "      <td id=\"T_644fd_row3_col3\" class=\"data row3 col3\" >0.891304</td>\n",
       "      <td id=\"T_644fd_row3_col4\" class=\"data row3 col4\" >0.869565</td>\n",
       "      <td id=\"T_644fd_row3_col5\" class=\"data row3 col5\" >0.673913</td>\n",
       "      <td id=\"T_644fd_row3_col6\" class=\"data row3 col6\" >0.869565</td>\n",
       "      <td id=\"T_644fd_row3_col7\" class=\"data row3 col7\" >0.804348</td>\n",
       "      <td id=\"T_644fd_row3_col8\" class=\"data row3 col8\" >0.826087</td>\n",
       "      <td id=\"T_644fd_row3_col9\" class=\"data row3 col9\" >0.891304</td>\n",
       "    </tr>\n",
       "  </tbody>\n",
       "</table>\n"
      ],
      "text/plain": [
       "<pandas.io.formats.style.Styler at 0x24585484b60>"
      ]
     },
     "execution_count": 41,
     "metadata": {},
     "output_type": "execute_result"
    }
   ],
   "source": [
    "result=feature_classification(acclog,accsvml,accsvmnl,accknn,accnav,accdes,accrf,accxg,accada,acclgbm)\n",
    "highlighted_result=result.style.highlight_max(axis=1,color=\"lightgreen\")\n",
    "highlighted_result"
   ]
  },
  {
   "cell_type": "code",
   "execution_count": 43,
   "id": "e8a55b90-160f-4e0a-899d-a10b16182531",
   "metadata": {},
   "outputs": [],
   "source": [
    "f1log=[]\n",
    "f1svml=[]\n",
    "f1svmnl=[]\n",
    "f1knn=[]\n",
    "f1nav=[]\n",
    "f1des=[]\n",
    "f1rf=[]\n",
    "f1xg=[]\n",
    "f1ada=[]\n",
    "f1lgbm=[]\n",
    "for i in importances_list:   \n",
    "    X_train, X_test, y_train, y_test=split_scalar(i,dep_Y)   \n",
    "    classifier,Accuracy,report,cm,f1=logistic(X_train,y_train,X_test,y_test)\n",
    "    f1log.append(f1)\n",
    "    \n",
    "    classifier,Accuracy,report,cm,f1=svm_linear(X_train,y_train,X_test,y_test)  \n",
    "    f1svml.append(f1)\n",
    "        \n",
    "    classifier,Accuracy,report,cm,f1=svm_NL(X_train,y_train,X_test,y_test)  \n",
    "    f1svmnl.append(f1)\n",
    "        \n",
    "    classifier,Accuracy,report,cm,f1=knn(X_train,y_train,X_test,y_test)  \n",
    "    f1knn.append(f1)\n",
    "        \n",
    "    classifier,Accuracy,report,cm,f1=Naive(X_train,y_train,X_test,y_test)  \n",
    "    f1nav.append(f1)\n",
    "        \n",
    "    classifier,Accuracy,report,cm,f1=Decision(X_train,y_train,X_test,y_test)  \n",
    "    f1des.append(f1)\n",
    "        \n",
    "    classifier,Accuracy,report,cm,f1=random(X_train,y_train,X_test,y_test)  \n",
    "    f1rf.append(f1)\n",
    "    \n",
    "    classifier,Accuracy,report,cm,f1=Xgboost(X_train,y_train,X_test,y_test)  \n",
    "    f1xg.append(f1)\n",
    "\n",
    "    classifier,Accuracy,report,cm,f1=AdaBoost(X_train,y_train,X_test,y_test)  \n",
    "    f1ada.append(f1)\n",
    "\n",
    "    classifier,Accuracy,report,cm,f1=LightGBM(X_train,y_train,X_test,y_test)  \n",
    "    f1lgbm.append(f1)\n",
    "\n",
    "\n"
   ]
  },
  {
   "cell_type": "code",
   "execution_count": 47,
   "id": "8ac933a9-38b0-4d13-9c08-6315edc92dcf",
   "metadata": {},
   "outputs": [],
   "source": [
    "def feature_classification(f1log,f1svml,f1svmnl,f1knn,f1nav,f1des,f1rf,f1xg,f1ada,f1lgbm):\n",
    "    dataframe=pd.DataFrame(index=['Logistic','SVC','Random','DecisionTree'],columns=['Logistic','SVMl','SVMnl','KNN','Naive','Decision','Random','XgBoost','AdaBoost','LightGBM'])\n",
    "    for number,idex in enumerate(dataframe.index):\n",
    "        dataframe.loc[idex,'Logistic']=f1log[number]\n",
    "        dataframe.loc[idex,'SVMl']=f1svml[number]\n",
    "        dataframe.loc[idex,'SVMnl']=f1svmnl[number]\n",
    "        dataframe.loc[idex,'KNN']=f1knn[number]\n",
    "        dataframe.loc[idex,'Naive']=f1nav[number]\n",
    "        dataframe.loc[idex,'Decision']=f1des[number]\n",
    "        dataframe.loc[idex,'Random']=f1rf[number]\n",
    "        dataframe.loc[idex,'XgBoost']=f1xg[number]\n",
    "        dataframe.loc[idex,'AdaBoost']=f1ada[number]\n",
    "        dataframe.loc[idex,'LightGBM']=f1lgbm[number]\n",
    "    return dataframe     "
   ]
  },
  {
   "cell_type": "code",
   "execution_count": 49,
   "id": "2151bc8d-f941-4d9c-a885-6f47602adf07",
   "metadata": {},
   "outputs": [
    {
     "data": {
      "text/html": [
       "<style type=\"text/css\">\n",
       "#T_8b073_row0_col3, #T_8b073_row1_col3, #T_8b073_row2_col2, #T_8b073_row3_col1 {\n",
       "  background-color: lightgreen;\n",
       "}\n",
       "</style>\n",
       "<table id=\"T_8b073\">\n",
       "  <thead>\n",
       "    <tr>\n",
       "      <th class=\"blank level0\" >&nbsp;</th>\n",
       "      <th id=\"T_8b073_level0_col0\" class=\"col_heading level0 col0\" >Logistic</th>\n",
       "      <th id=\"T_8b073_level0_col1\" class=\"col_heading level0 col1\" >SVMl</th>\n",
       "      <th id=\"T_8b073_level0_col2\" class=\"col_heading level0 col2\" >SVMnl</th>\n",
       "      <th id=\"T_8b073_level0_col3\" class=\"col_heading level0 col3\" >KNN</th>\n",
       "      <th id=\"T_8b073_level0_col4\" class=\"col_heading level0 col4\" >Naive</th>\n",
       "      <th id=\"T_8b073_level0_col5\" class=\"col_heading level0 col5\" >Decision</th>\n",
       "      <th id=\"T_8b073_level0_col6\" class=\"col_heading level0 col6\" >Random</th>\n",
       "      <th id=\"T_8b073_level0_col7\" class=\"col_heading level0 col7\" >XgBoost</th>\n",
       "      <th id=\"T_8b073_level0_col8\" class=\"col_heading level0 col8\" >AdaBoost</th>\n",
       "      <th id=\"T_8b073_level0_col9\" class=\"col_heading level0 col9\" >LightGBM</th>\n",
       "    </tr>\n",
       "  </thead>\n",
       "  <tbody>\n",
       "    <tr>\n",
       "      <th id=\"T_8b073_level0_row0\" class=\"row_heading level0 row0\" >Logistic</th>\n",
       "      <td id=\"T_8b073_row0_col0\" class=\"data row0 col0\" >0.880000</td>\n",
       "      <td id=\"T_8b073_row0_col1\" class=\"data row0 col1\" >0.894737</td>\n",
       "      <td id=\"T_8b073_row0_col2\" class=\"data row0 col2\" >0.900000</td>\n",
       "      <td id=\"T_8b073_row0_col3\" class=\"data row0 col3\" >0.931507</td>\n",
       "      <td id=\"T_8b073_row0_col4\" class=\"data row0 col4\" >0.894737</td>\n",
       "      <td id=\"T_8b073_row0_col5\" class=\"data row0 col5\" >0.823529</td>\n",
       "      <td id=\"T_8b073_row0_col6\" class=\"data row0 col6\" >0.821918</td>\n",
       "      <td id=\"T_8b073_row0_col7\" class=\"data row0 col7\" >0.849315</td>\n",
       "      <td id=\"T_8b073_row0_col8\" class=\"data row0 col8\" >0.849315</td>\n",
       "      <td id=\"T_8b073_row0_col9\" class=\"data row0 col9\" >0.901408</td>\n",
       "    </tr>\n",
       "    <tr>\n",
       "      <th id=\"T_8b073_level0_row1\" class=\"row_heading level0 row1\" >SVC</th>\n",
       "      <td id=\"T_8b073_row1_col0\" class=\"data row1 col0\" >0.880000</td>\n",
       "      <td id=\"T_8b073_row1_col1\" class=\"data row1 col1\" >0.894737</td>\n",
       "      <td id=\"T_8b073_row1_col2\" class=\"data row1 col2\" >0.900000</td>\n",
       "      <td id=\"T_8b073_row1_col3\" class=\"data row1 col3\" >0.931507</td>\n",
       "      <td id=\"T_8b073_row1_col4\" class=\"data row1 col4\" >0.894737</td>\n",
       "      <td id=\"T_8b073_row1_col5\" class=\"data row1 col5\" >0.823529</td>\n",
       "      <td id=\"T_8b073_row1_col6\" class=\"data row1 col6\" >0.800000</td>\n",
       "      <td id=\"T_8b073_row1_col7\" class=\"data row1 col7\" >0.849315</td>\n",
       "      <td id=\"T_8b073_row1_col8\" class=\"data row1 col8\" >0.849315</td>\n",
       "      <td id=\"T_8b073_row1_col9\" class=\"data row1 col9\" >0.901408</td>\n",
       "    </tr>\n",
       "    <tr>\n",
       "      <th id=\"T_8b073_level0_row2\" class=\"row_heading level0 row2\" >Random</th>\n",
       "      <td id=\"T_8b073_row2_col0\" class=\"data row2 col0\" >0.891892</td>\n",
       "      <td id=\"T_8b073_row2_col1\" class=\"data row2 col1\" >0.888889</td>\n",
       "      <td id=\"T_8b073_row2_col2\" class=\"data row2 col2\" >0.909091</td>\n",
       "      <td id=\"T_8b073_row2_col3\" class=\"data row2 col3\" >0.906667</td>\n",
       "      <td id=\"T_8b073_row2_col4\" class=\"data row2 col4\" >0.873239</td>\n",
       "      <td id=\"T_8b073_row2_col5\" class=\"data row2 col5\" >0.861111</td>\n",
       "      <td id=\"T_8b073_row2_col6\" class=\"data row2 col6\" >0.861111</td>\n",
       "      <td id=\"T_8b073_row2_col7\" class=\"data row2 col7\" >0.837838</td>\n",
       "      <td id=\"T_8b073_row2_col8\" class=\"data row2 col8\" >0.837838</td>\n",
       "      <td id=\"T_8b073_row2_col9\" class=\"data row2 col9\" >0.833333</td>\n",
       "    </tr>\n",
       "    <tr>\n",
       "      <th id=\"T_8b073_level0_row3\" class=\"row_heading level0 row3\" >DecisionTree</th>\n",
       "      <td id=\"T_8b073_row3_col0\" class=\"data row3 col0\" >0.927536</td>\n",
       "      <td id=\"T_8b073_row3_col1\" class=\"data row3 col1\" >0.958904</td>\n",
       "      <td id=\"T_8b073_row3_col2\" class=\"data row3 col2\" >0.909091</td>\n",
       "      <td id=\"T_8b073_row3_col3\" class=\"data row3 col3\" >0.931507</td>\n",
       "      <td id=\"T_8b073_row3_col4\" class=\"data row3 col4\" >0.911765</td>\n",
       "      <td id=\"T_8b073_row3_col5\" class=\"data row3 col5\" >0.794521</td>\n",
       "      <td id=\"T_8b073_row3_col6\" class=\"data row3 col6\" >0.918919</td>\n",
       "      <td id=\"T_8b073_row3_col7\" class=\"data row3 col7\" >0.873239</td>\n",
       "      <td id=\"T_8b073_row3_col8\" class=\"data row3 col8\" >0.888889</td>\n",
       "      <td id=\"T_8b073_row3_col9\" class=\"data row3 col9\" >0.931507</td>\n",
       "    </tr>\n",
       "  </tbody>\n",
       "</table>\n"
      ],
      "text/plain": [
       "<pandas.io.formats.style.Styler at 0x245874d8fb0>"
      ]
     },
     "execution_count": 49,
     "metadata": {},
     "output_type": "execute_result"
    }
   ],
   "source": [
    "result=feature_classification(f1log,f1svml,f1svmnl,f1knn,f1nav,f1des,f1rf,f1xg,f1ada,f1lgbm)\n",
    "highlighted_result=result.style.highlight_max(axis=1,color=\"lightgreen\")\n",
    "highlighted_result"
   ]
  },
  {
   "cell_type": "code",
   "execution_count": null,
   "id": "98e7f307-020a-43e4-a529-51236bdc8b37",
   "metadata": {},
   "outputs": [],
   "source": []
  },
  {
   "cell_type": "code",
   "execution_count": null,
   "id": "bf893c8f-e600-4def-8677-6f6eb6c480dc",
   "metadata": {},
   "outputs": [],
   "source": []
  },
  {
   "cell_type": "code",
   "execution_count": null,
   "id": "2b186e4d-e699-4cb0-a69c-afa084f27837",
   "metadata": {},
   "outputs": [],
   "source": []
  }
 ],
 "metadata": {
  "kernelspec": {
   "display_name": "Python [conda env:base] *",
   "language": "python",
   "name": "conda-base-py"
  },
  "language_info": {
   "codemirror_mode": {
    "name": "ipython",
    "version": 3
   },
   "file_extension": ".py",
   "mimetype": "text/x-python",
   "name": "python",
   "nbconvert_exporter": "python",
   "pygments_lexer": "ipython3",
   "version": "3.12.9"
  }
 },
 "nbformat": 4,
 "nbformat_minor": 5
}
